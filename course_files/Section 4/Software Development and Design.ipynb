{
 "cells": [
  {
   "cell_type": "markdown",
   "id": "0a052240-d174-406d-a0d0-f3077c04a2d3",
   "metadata": {},
   "source": [
    "<h1>Common Data Formats</h1>"
   ]
  },
  {
   "cell_type": "markdown",
   "id": "9a634ca0-367c-4169-9ac5-d99b34e15f27",
   "metadata": {},
   "source": [
    "<h2>CSV</h2>"
   ]
  },
  {
   "cell_type": "code",
   "execution_count": 1,
   "id": "90efa951-b593-4a13-a405-e77899fc6042",
   "metadata": {},
   "outputs": [],
   "source": [
    "#csv module can be used to work with csv\n",
    "import csv"
   ]
  },
  {
   "cell_type": "code",
   "execution_count": 2,
   "id": "80cddc9c-3328-47ec-bdb4-f52e7a06bb56",
   "metadata": {},
   "outputs": [
    {
     "name": "stdout",
     "output_type": "stream",
     "text": [
      "['name', ' surname', ' age', ' address', '']\n",
      "name\n",
      "['John', ' Doe', ' 22', ' Elm Street 28']\n",
      "John\n",
      "['Jane', ' Doe', ' 23', ' Elm Street 29']\n",
      "Jane\n",
      "['Peter', ' Peterson', ' 25', ' Elm Street 14']\n",
      "Peter\n",
      "['Sergiu', ' Calmic', ' 35', ' Mihai Eminescu 55']\n",
      "Sergiu\n",
      "['Mohamed', 'Lee', '', '']\n",
      "Mohamed\n"
     ]
    }
   ],
   "source": [
    "#basic read example\n",
    "with open('example.csv', 'r') as csvfile:\n",
    "    reader = csv.reader(csvfile)\n",
    "    for row in reader:\n",
    "        print(row)\n",
    "        print(row[0])"
   ]
  },
  {
   "cell_type": "code",
   "execution_count": 3,
   "id": "5d5b71c4-76f3-4f62-ab84-0efe3fc1f5e0",
   "metadata": {},
   "outputs": [
    {
     "name": "stdout",
     "output_type": "stream",
     "text": [
      "{'name': 'John', ' surname': ' Doe', ' age': ' 22', ' address': ' Elm Street 28', '': None}\n",
      "John\n",
      "{'name': 'Jane', ' surname': ' Doe', ' age': ' 23', ' address': ' Elm Street 29', '': None}\n",
      "Jane\n",
      "{'name': 'Peter', ' surname': ' Peterson', ' age': ' 25', ' address': ' Elm Street 14', '': None}\n",
      "Peter\n",
      "{'name': 'Sergiu', ' surname': ' Calmic', ' age': ' 35', ' address': ' Mihai Eminescu 55', '': None}\n",
      "Sergiu\n",
      "{'name': 'Mohamed', ' surname': 'Lee', ' age': '', ' address': '', '': None}\n",
      "Mohamed\n"
     ]
    }
   ],
   "source": [
    "#Map otput to dictionary\n",
    "with open('example.csv', 'r') as csvfile:\n",
    "    reader = csv.DictReader(csvfile)\n",
    "    for row in reader:\n",
    "        print(row)\n",
    "        print(row[\"name\"])"
   ]
  },
  {
   "cell_type": "code",
   "execution_count": 4,
   "id": "b55e166f-54c6-4b1b-bbd8-b95686c522c9",
   "metadata": {},
   "outputs": [],
   "source": [
    "#write to file\n",
    "with open('example.csv', 'a', newline='\\n') as csvfile:\n",
    "    fieldnames = ['name', 'surname', \"age\", \"address\"]\n",
    "    writer = csv.DictWriter(csvfile, fieldnames=fieldnames)\n",
    "    #writer.writeheader()\n",
    "    writer.writerow({'name': 'Mohamed', 'surname': 'Lee'})"
   ]
  },
  {
   "cell_type": "markdown",
   "id": "a9d2adf8-8b85-488a-a039-0ac867cbc6fd",
   "metadata": {},
   "source": [
    "<h2>XML</h2>"
   ]
  },
  {
   "cell_type": "code",
   "execution_count": 5,
   "id": "14b8887a-79c4-4f55-9ecf-d1c8b55aa148",
   "metadata": {},
   "outputs": [],
   "source": [
    "import xml.etree.ElementTree as ET"
   ]
  },
  {
   "cell_type": "code",
   "execution_count": 6,
   "id": "6fc98db6-7076-41ba-a486-ff0fbd77f516",
   "metadata": {},
   "outputs": [
    {
     "name": "stdout",
     "output_type": "stream",
     "text": [
      "PLANT {}\n",
      "Bloodroot\n",
      "PLANT {}\n",
      "Columbine\n",
      "PLANT {}\n",
      "Marsh Marigold\n"
     ]
    }
   ],
   "source": [
    "# Parse the XML file\n",
    "tree = ET.parse('example.xml')\n",
    "\n",
    "# Get the root element\n",
    "root = tree.getroot()\n",
    "\n",
    "# Iterate through the elements and print their tag names and attribute values\n",
    "for elem in root:\n",
    "    print(elem.tag, elem.attrib)\n",
    "    print(elem[0].text)"
   ]
  },
  {
   "cell_type": "code",
   "execution_count": 8,
   "id": "ba5302e1-2acd-40e5-9ae2-0695d55dceec",
   "metadata": {},
   "outputs": [
    {
     "data": {
      "text/plain": [
       "'Bloodroot'"
      ]
     },
     "execution_count": 8,
     "metadata": {},
     "output_type": "execute_result"
    }
   ],
   "source": [
    "#another way to access elements\n",
    "root[0][0].text"
   ]
  },
  {
   "cell_type": "markdown",
   "id": "b3eea915-3638-486d-b6a0-2e416f03d146",
   "metadata": {},
   "source": [
    "<h2>JSON</h2>"
   ]
  },
  {
   "cell_type": "code",
   "execution_count": 10,
   "id": "44babfa9-eea8-4f0e-922d-7bdc4e1397c2",
   "metadata": {},
   "outputs": [],
   "source": [
    "import json"
   ]
  },
  {
   "cell_type": "code",
   "execution_count": 11,
   "id": "05c058b3-9d3a-490b-8586-b9a87b0e587a",
   "metadata": {},
   "outputs": [
    {
     "name": "stdout",
     "output_type": "stream",
     "text": [
      "{'name': 'John', 'surname': 'Doe', 'addresses': ['Elm Street 11', 'Elm Street 12', 'Elm Street 13'], 'friends': {'friend1': 'Jane Doe', 'friend2': 'John Smith'}}\n",
      "\n",
      "dict_keys(['name', 'surname', 'addresses', 'friends'])\n",
      "John\n",
      "{'friend1': 'Jane Doe', 'friend2': 'John Smith'}\n"
     ]
    }
   ],
   "source": [
    "#read the file\n",
    "with open(\"example.json\",'r') as js:\n",
    "    myjson = json.load(js)\n",
    "    #myjson is pretty much a dictionary now\n",
    "    print(myjson)\n",
    "    print()\n",
    "    print(myjson.keys())\n",
    "    print(myjson['name'])\n",
    "    print(myjson['friends'])"
   ]
  },
  {
   "cell_type": "markdown",
   "id": "ab660a28-927a-408a-9c42-ee27bab37326",
   "metadata": {},
   "source": [
    "<h2>YAML</h2>"
   ]
  },
  {
   "cell_type": "code",
   "execution_count": 12,
   "id": "f8f87d31-5bc4-4a65-9f24-5f48d56d3a6b",
   "metadata": {},
   "outputs": [],
   "source": [
    "import yaml"
   ]
  },
  {
   "cell_type": "code",
   "execution_count": 13,
   "id": "5b080ad0-6e1a-44ab-afb8-f5c5e09edd94",
   "metadata": {},
   "outputs": [
    {
     "name": "stdout",
     "output_type": "stream",
     "text": [
      "{'name': 'John', 'surname': 'Doe', 'addresses': ['Elm Street 11', 'Elm Street 12', 'Elm Street 13'], 'friends': {'friend1': 'Jane Doe', 'friend2': 'John Smith'}}\n",
      "dict_keys(['name', 'surname', 'addresses', 'friends'])\n",
      "John\n",
      "{'friend1': 'Jane Doe', 'friend2': 'John Smith'}\n"
     ]
    }
   ],
   "source": [
    "with open(\"example.yaml\", \"r\") as y:\n",
    "    myyaml = yaml.safe_load(y)\n",
    "    print(myyaml)\n",
    "    #it becomes a dictionary, exactly like with json\n",
    "    print(myyaml.keys())\n",
    "    print(myyaml['name'])\n",
    "    print(myyaml['friends'])"
   ]
  },
  {
   "cell_type": "markdown",
   "id": "7e903acd-1c73-45d8-809d-36e44b54acd9",
   "metadata": {},
   "source": [
    "<h2>Homework</h2>"
   ]
  },
  {
   "cell_type": "markdown",
   "id": "3edd4e69-84f1-41f1-a872-78df009548ac",
   "metadata": {},
   "source": [
    "Find some csv, xml, json and yaml files from internet and parse them with python"
   ]
  },
  {
   "cell_type": "code",
   "execution_count": null,
   "id": "ab62759b-9453-4c71-8881-892d1b39007d",
   "metadata": {},
   "outputs": [],
   "source": []
  }
 ],
 "metadata": {
  "kernelspec": {
   "display_name": "Python 3",
   "language": "python",
   "name": "python3"
  },
  "language_info": {
   "codemirror_mode": {
    "name": "ipython",
    "version": 3
   },
   "file_extension": ".py",
   "mimetype": "text/x-python",
   "name": "python",
   "nbconvert_exporter": "python",
   "pygments_lexer": "ipython3",
   "version": "3.9.5"
  }
 },
 "nbformat": 4,
 "nbformat_minor": 5
}
