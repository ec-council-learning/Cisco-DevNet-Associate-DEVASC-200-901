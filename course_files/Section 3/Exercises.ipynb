{
 "cells": [
  {
   "cell_type": "markdown",
   "id": "63e8ab46-5f87-40bd-afdb-7f52d2133b9d",
   "metadata": {},
   "source": [
    "<h1> Exercises </h1>"
   ]
  },
  {
   "cell_type": "markdown",
   "id": "a2f81127-d61e-4715-b9f7-1a6d68ecba37",
   "metadata": {},
   "source": [
    "<h2>Section 1</h2>"
   ]
  },
  {
   "cell_type": "markdown",
   "id": "5bd9113c-9c67-41b6-9da6-ee3433bf995e",
   "metadata": {},
   "source": [
    "**1.1 Write code that replaces the letters 'm' in the first half of a string with 'M'**\n",
    "\n",
    "- **input:** \"memory\"\n",
    "- **expected result:** MeMory\n",
    "- **input:** \"miniminiminimini:\n",
    "- **expected result:** \"MiniMiniminimini\"\n",
    "\n",
    "Note, if the string has uneven number of characters, replace 'm's in the bigger half"
   ]
  },
  {
   "cell_type": "code",
   "execution_count": 1,
   "id": "66849868-02a5-422a-a23d-3c133bc19702",
   "metadata": {},
   "outputs": [
    {
     "data": {
      "text/plain": [
       "'MiMiMimimii'"
      ]
     },
     "execution_count": 1,
     "metadata": {},
     "output_type": "execute_result"
    }
   ],
   "source": [
    "x = \"mimimimimii\"\n",
    "y = round(len(x)/2)\n",
    "x[:y].replace('m','M') + x[y:]"
   ]
  },
  {
   "cell_type": "code",
   "execution_count": 3,
   "id": "dfc94db3-088d-48c6-a812-2b0df323f528",
   "metadata": {},
   "outputs": [
    {
     "data": {
      "text/plain": [
       "'MeMory'"
      ]
     },
     "execution_count": 3,
     "metadata": {},
     "output_type": "execute_result"
    }
   ],
   "source": [
    "x = \"memory\"\n",
    "y = round(len(x)/2)\n",
    "x[:y].replace('m','M') + x[y:]"
   ]
  },
  {
   "cell_type": "markdown",
   "id": "f61ce308-d10d-436e-b36b-64c06d5cf8e7",
   "metadata": {},
   "source": [
    "**1.2 Given a string which is a configuration line, containing the ip address of the format 'ip address 1.1.1.1 255.255.255.0', convert it to a different format: 'ipv4-address 1.1.1.1 255.255.255.0**\n",
    "\n",
    "- **input:** 'ip address 1.1.1.1 255.255.255.0'\n",
    "- **expected result:** 'ipv4-address 1.1.1.1 255.255.255.0'"
   ]
  },
  {
   "cell_type": "code",
   "execution_count": 6,
   "id": "608ffbbe-e96f-4e13-b81e-3f56a1c30e75",
   "metadata": {},
   "outputs": [
    {
     "name": "stdout",
     "output_type": "stream",
     "text": [
      "ipv4-address 1.1.1.1 255.255.255.0\n"
     ]
    }
   ],
   "source": [
    "x = 'ip address 1.1.1.1 255.255.255.0'\n",
    "y = x.replace(\"ip \", \"ipv4-\")\n",
    "print(y)"
   ]
  },
  {
   "cell_type": "markdown",
   "id": "adf1110f-c8b9-461d-8a41-24238248db04",
   "metadata": {},
   "source": [
    "**1.3 Given the configuration line containing a list of allowed vlans (example: 'switchport trunk allowed vlans 1,2,3,500,900'), extract all the allowed vlans in a list**\n",
    "\n",
    "- **input:** \"'switchport trunk allowed vlans 1,2,3,500,900'\"\n",
    "- **expected result:** [1,2,4,500,900]"
   ]
  },
  {
   "cell_type": "code",
   "execution_count": 7,
   "id": "2096caab-8f11-495c-b588-d93d60152108",
   "metadata": {},
   "outputs": [
    {
     "name": "stdout",
     "output_type": "stream",
     "text": [
      "['1', '2', '3', '500', '900']\n",
      "<class 'list'>\n"
     ]
    }
   ],
   "source": [
    "x = 'switchport trunk allowed vlans 1,2,3,500,900'\n",
    "y = x.split()[-1].split(',')\n",
    "print(y)\n",
    "print(type(y))"
   ]
  },
  {
   "cell_type": "markdown",
   "id": "d617bd39-b6c6-4e9d-ac79-db32548f8ab1",
   "metadata": {},
   "source": [
    "<h2> Section 2</h2>"
   ]
  },
  {
   "cell_type": "markdown",
   "id": "651d34d6-becb-4ca8-bde0-d150204fc82d",
   "metadata": {},
   "source": [
    "**2.1 Create a function that takes as input two parameters: distance and units. The distance is in km. Units can be m, cm or mm.\n",
    "The function should convert the distance from km to the chosen unit**\n",
    "\n",
    "Note: if the unit is something else than cm, mm or m, the function should return a message stating: \"unknown units\"\n",
    "\n",
    "- **Example input**: 10, m\n",
    "- **Example output**: 10000\n",
    "\n",
    "- **Example input**: 11, cm\n",
    "- **Example output**: 1100000\n"
   ]
  },
  {
   "cell_type": "code",
   "execution_count": 9,
   "id": "52f2318b-6df2-4ca3-a358-adac20ff55f5",
   "metadata": {},
   "outputs": [
    {
     "data": {
      "text/plain": [
       "11000"
      ]
     },
     "execution_count": 9,
     "metadata": {},
     "output_type": "execute_result"
    }
   ],
   "source": [
    "def convert_distance(distance,units):\n",
    "    if units == \"m\":\n",
    "        return distance *1000\n",
    "    elif units == \"cm\":\n",
    "        return distance * 100000\n",
    "    elif units == \"mm\":\n",
    "        return distance * 1000000\n",
    "    else:\n",
    "        return \"unknown units\"\n",
    "    \n",
    "convert_distance(11,'m')"
   ]
  },
  {
   "cell_type": "markdown",
   "id": "f96d0989-7a5f-4bed-a81a-49b5a823ccc5",
   "metadata": {},
   "source": [
    "**2.2 Write a function that takes a list of numbers as input and returns the biggest number from the list**\n",
    "\n",
    "- **Example input:** [11,0,22,-1]\n",
    "- **Example output:** 22"
   ]
  },
  {
   "cell_type": "code",
   "execution_count": 10,
   "id": "60030416-07aa-4bf5-9a38-8a1e530a24e9",
   "metadata": {},
   "outputs": [],
   "source": [
    "def find_max(input_list):\n",
    "    max = input_list[0]\n",
    "    for i in input_list:\n",
    "        if i > max:\n",
    "            max = i\n",
    "    return max"
   ]
  },
  {
   "cell_type": "code",
   "execution_count": 11,
   "id": "0905d556-cb9c-4a54-9d4a-18d4dcfad23a",
   "metadata": {},
   "outputs": [
    {
     "data": {
      "text/plain": [
       "3"
      ]
     },
     "execution_count": 11,
     "metadata": {},
     "output_type": "execute_result"
    }
   ],
   "source": [
    "find_max([1,2,-33,3])"
   ]
  },
  {
   "cell_type": "markdown",
   "id": "9477af00-f995-430a-b3a8-626fb72dba32",
   "metadata": {},
   "source": [
    "**2.3 Write two functions:**\n",
    "- One called 'login' that will randomly generate a True or False answer. \n",
    "- The second one that will randomly generate a string username and a string password with the length of 8, and will call the 'login' function and when it returns true, will stop and print the username and password used that returned true.\n",
    "\n",
    "**Note: try to searc the internet to find how to generate a random string and boolean**"
   ]
  },
  {
   "cell_type": "code",
   "execution_count": 12,
   "id": "f01bd886-8740-4603-b68e-00e5ae376cf7",
   "metadata": {},
   "outputs": [],
   "source": [
    "import random\n",
    "import string\n",
    "\n",
    "def login(username,password):\n",
    "    return random.choice([True, False])\n",
    "\n",
    "def create_random_username_and_password():\n",
    "    \n",
    "    success = False\n",
    "    while not success:\n",
    "        username = ''.join(random.choices(string.ascii_lowercase, k=5))\n",
    "        password = ''.join(random.choices(string.ascii_lowercase, k=5))\n",
    "        success = login(username,password)\n",
    "    else:\n",
    "        print(f\"Successfully logged in with username {username} and passsword {password}\")"
   ]
  },
  {
   "cell_type": "code",
   "execution_count": 13,
   "id": "84bfedac-2560-49d0-a023-4b796271a7ba",
   "metadata": {},
   "outputs": [
    {
     "name": "stdout",
     "output_type": "stream",
     "text": [
      "Successfully logged in with username ghutt and passsword sfdqu\n"
     ]
    }
   ],
   "source": [
    "create_random_username_and_password()"
   ]
  },
  {
   "cell_type": "markdown",
   "id": "b0fe701b-c068-40bb-b32d-7d35d574159f",
   "metadata": {},
   "source": [
    "<h2> Section 3</h2>"
   ]
  },
  {
   "cell_type": "markdown",
   "id": "17ab85fd-f403-4638-9109-563d4fcf0ff4",
   "metadata": {},
   "source": [
    "**3.1 Create a code that will calculate the area of a rectangle with command line parameters, treating all exceptions, having as input the lenght and the width of the rectangle**\n",
    "\n",
    "Reminder - the area of a rectangle is width * length"
   ]
  },
  {
   "cell_type": "code",
   "execution_count": 1,
   "id": "7063e3c4-d80a-4aee-b541-7e74cf067e35",
   "metadata": {},
   "outputs": [],
   "source": [
    "#check rectangle_area.py file for a solution"
   ]
  },
  {
   "cell_type": "markdown",
   "id": "3725dc70-42b7-41d7-b09c-2971ed35cfc8",
   "metadata": {},
   "source": [
    "<h2> Section 4</h2>"
   ]
  },
  {
   "cell_type": "markdown",
   "id": "947169dd-0ee4-43b9-8dfe-f3eed1715f07",
   "metadata": {},
   "source": [
    "**4.1 Create a class that represents an OSPF process on a router. It should have 3 methods**\n",
    "- get_neighbors - return a list of neighbors\n",
    "- get_routes - return the list of routes and the neighbor routerid from which they were learned\n",
    "- add_neighbor - add router id in the list of neighbors\n",
    "- add_route - add a route to the routes dictionary, if the router id is in the list of neighbors\n",
    "\n",
    "**and 3 attributes:**\n",
    "- router_id - a string containing the router id\n",
    "- routes - a dictionary where the key is the neighbor routerid, and the value is a list of (mock) routes learned from that neighbor\n",
    "- neighbors - a list of other router ids with which our router established neigbhoring relationships\n"
   ]
  },
  {
   "cell_type": "code",
   "execution_count": 16,
   "id": "fdba09b4-587f-45b6-8a3d-60d128a2ebc0",
   "metadata": {},
   "outputs": [],
   "source": [
    "class OSPF():\n",
    "    \n",
    "    def __init__(self, routerid):\n",
    "        self.routerid = routerid\n",
    "        self.neighbors = []\n",
    "        self.routes = {}\n",
    "    \n",
    "    def get_neighbors(self):\n",
    "        return self.neighbors\n",
    "    \n",
    "    def get_routes(self):\n",
    "        return self.routes\n",
    "    \n",
    "    def add_neighbor(self, neighbor):\n",
    "        self.neighbors.append(neighbor)\n",
    "    \n",
    "    def add_route(self, routerid,route):\n",
    "        if routerid in self.neighbors:\n",
    "            if routerid in self.routes.keys():\n",
    "                self.routes[routerid].append(route)\n",
    "            else: \n",
    "                self.routes[routerid] = [route]\n",
    "    \n",
    "    def __repr__(self):\n",
    "        return f\"RouterID: {self.routerid}, Neighbors: {self.neighbors}, Routes: {self.routes}\"\n",
    "        \n",
    "        "
   ]
  },
  {
   "cell_type": "code",
   "execution_count": 17,
   "id": "6a99a203-69b7-4dbd-a608-5ff0a62e992f",
   "metadata": {},
   "outputs": [],
   "source": [
    "o1 = OSPF(\"1.1.1.1\")"
   ]
  },
  {
   "cell_type": "code",
   "execution_count": 20,
   "id": "dc777860-606e-43fa-85f4-b64d4036b16a",
   "metadata": {},
   "outputs": [],
   "source": [
    "o1.add_neighbor(\"2.2.2.2\")\n",
    "o1.add_route(\"2.2.2.2\",\"Route 1\")\n",
    "o1.add_route(\"2.2.2.2\",\"Route 2\")\n",
    "o1.add_route(\"3.3.3.3\", \"Route 2\")"
   ]
  },
  {
   "cell_type": "code",
   "execution_count": 21,
   "id": "a4b78929-a3ee-425d-b08a-e65afcf4b155",
   "metadata": {},
   "outputs": [
    {
     "data": {
      "text/plain": [
       "RouterID: 1.1.1.1, Neighbors: ['2.2.2.2', '2.2.2.2'], Routes: {'2.2.2.2': ['Route 1', 'Route 1', 'Route 2']}"
      ]
     },
     "execution_count": 21,
     "metadata": {},
     "output_type": "execute_result"
    }
   ],
   "source": [
    "o1"
   ]
  },
  {
   "cell_type": "markdown",
   "id": "43270c7e-00ef-449d-838e-a12f2009f294",
   "metadata": {},
   "source": [
    "<h2> Section 5</h2>"
   ]
  },
  {
   "cell_type": "markdown",
   "id": "ffe2fb39-6db5-4034-a528-f3aff180882b",
   "metadata": {},
   "source": [
    "5.1 **Create a function that parses the R1_config.txt file. Create a dict output that will contain the exact interface name and the exact ip address of each interface with ip address and write this output to an output file**\n",
    "\n",
    "- **Examle output**:\n",
    "\n",
    "{ \n",
    "\"FastEthernet0/0\": \"1.1.1.1\",\n",
    "  \"FastEthernet0/1\": \"2.2.2.2\n",
    "}"
   ]
  },
  {
   "cell_type": "code",
   "execution_count": 32,
   "id": "4f4a78f4-654b-4684-b2a9-3c210120c2ff",
   "metadata": {},
   "outputs": [],
   "source": [
    "def parse_config(cfgfile, outfile):\n",
    "    \n",
    "    interface = None\n",
    "    ip_addr = None\n",
    "    interfaces = {}\n",
    "    \n",
    "    with open(cfgfile,'r') as c:\n",
    "        with open(outfile,'w') as o:\n",
    "\n",
    "            for line in c.readlines():\n",
    "                if \"interface\" in line:\n",
    "                    interface = line.strip().split()[-1]\n",
    "\n",
    "                if \"ip address\" in line:\n",
    "                    if not \"no ip address\" in line: \n",
    "                        ip_addr = line.strip()\n",
    "\n",
    "                if interface and ip_addr:\n",
    "                    interfaces[interface] = ip_addr.split()[2]\n",
    "                    interface = None\n",
    "                    ip_addr = None\n",
    "                    \n",
    "            o.write(str(interfaces))\n",
    "    return interfaces"
   ]
  },
  {
   "cell_type": "code",
   "execution_count": 33,
   "id": "a86beef6-07cf-4844-966c-b3b63508bb1b",
   "metadata": {},
   "outputs": [
    {
     "data": {
      "text/plain": [
       "{'Loopback0': '1.1.1.1',\n",
       " 'FastEthernet0/0': '192.168.1.1',\n",
       " 'Serial0/0/0': '10.0.1.2',\n",
       " 'Serial0/0/1': '10.1.2.1'}"
      ]
     },
     "execution_count": 33,
     "metadata": {},
     "output_type": "execute_result"
    }
   ],
   "source": [
    "parse_config(\"R1_config.txt\",\"output_file.txt\")"
   ]
  },
  {
   "cell_type": "markdown",
   "id": "b7fcaff5-5c33-4182-8ad3-c6ccb92d943e",
   "metadata": {},
   "source": [
    "<h2>Section 6</h2>"
   ]
  },
  {
   "cell_type": "markdown",
   "id": "460e8ad9-5e8e-47d3-9fb7-3319830f97c7",
   "metadata": {},
   "source": [
    "**6.1 Write a Pythagoras class with two static methods - calculate hypotenuse and calculate area of a right-angled triangle. Use as inputs the two legs of the triangle.**\n",
    "- Create tests with unit test or pytest to check the functionality of the Pythagoras class. \n",
    "- Use the TDD approach. \n",
    "- Make sure to test positive and negative scenarios\n",
    "\n",
    "Note 1: In a right-angled triangle, the square of the hypotenuse side is equal to the sum of squares of the other two sides\n",
    "\n",
    "Note 2: The area of a right-angled triangle equals with two legs multiplied divided by 2"
   ]
  },
  {
   "cell_type": "code",
   "execution_count": 2,
   "id": "3eb362bd-b19c-48d5-b166-246ddee2b5a5",
   "metadata": {},
   "outputs": [],
   "source": [
    "#check the pytagora.py file for an example\n",
    "#to run with pytest use pytest pytagora.py"
   ]
  },
  {
   "cell_type": "code",
   "execution_count": null,
   "id": "6338c4fd-d932-4448-bf8f-214d5c3270db",
   "metadata": {},
   "outputs": [],
   "source": []
  }
 ],
 "metadata": {
  "kernelspec": {
   "display_name": "Python 3",
   "language": "python",
   "name": "python3"
  },
  "language_info": {
   "codemirror_mode": {
    "name": "ipython",
    "version": 3
   },
   "file_extension": ".py",
   "mimetype": "text/x-python",
   "name": "python",
   "nbconvert_exporter": "python",
   "pygments_lexer": "ipython3",
   "version": "3.9.5"
  }
 },
 "nbformat": 4,
 "nbformat_minor": 5
}
