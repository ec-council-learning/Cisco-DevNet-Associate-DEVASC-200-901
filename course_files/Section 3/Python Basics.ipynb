{
 "cells": [
  {
   "cell_type": "markdown",
   "id": "5712ebc4-f033-4cea-aeaa-c5cd7622cd0f",
   "metadata": {},
   "source": [
    "<h1>1. Python Basics</h1>"
   ]
  },
  {
   "cell_type": "markdown",
   "id": "7c37f64e-2fcc-4c5e-85d9-208f6f868062",
   "metadata": {},
   "source": [
    "<h2>The Flow</h2>"
   ]
  },
  {
   "cell_type": "markdown",
   "id": "d6e79851-a124-4345-9d22-89cbecfaf2d5",
   "metadata": {},
   "source": [
    "Programs are executed:\n",
    "- one line at a time\n",
    "- line by line\n",
    "- from top to bottom\n",
    "\n",
    "There are instructions controlling the flow, like \"if\" of for loops, however the rules still apply\n",
    "<p> \n",
    "    <b>Note:</b> In jupyter notebook the rules apply to each cell."
   ]
  },
  {
   "cell_type": "code",
   "execution_count": null,
   "id": "3b58fb3e-87b9-4b03-845a-30d52916cb07",
   "metadata": {},
   "outputs": [],
   "source": [
    "print(1)\n",
    "print(2)\n",
    "print(3)"
   ]
  },
  {
   "cell_type": "markdown",
   "id": "8799e304-54f9-4d3e-b21f-617c5f1e6427",
   "metadata": {},
   "source": [
    "<h2>Variables<h2>"
   ]
  },
  {
   "cell_type": "markdown",
   "id": "2f14c164-3f76-4972-9e4e-29fd25f16484",
   "metadata": {},
   "source": [
    "<b>Variable</b> = container for a value/values.\n",
    "<p>Variables have specific types, for numbers, text strings, boolean values (true/valse)\n",
    "<p>Python supports dynamic typing, i.e. there is no need to declare the type of variable, it is selected on the fly."
   ]
  },
  {
   "cell_type": "code",
   "execution_count": null,
   "id": "43774816-c2d6-4cf0-9777-609046fe011d",
   "metadata": {},
   "outputs": [],
   "source": [
    "x = 1\n",
    "print(x)"
   ]
  },
  {
   "cell_type": "code",
   "execution_count": null,
   "id": "2066929b-db34-43b5-accd-0fa57feb245b",
   "metadata": {},
   "outputs": [],
   "source": [
    "x = 1\n",
    "type(x)"
   ]
  },
  {
   "cell_type": "code",
   "execution_count": null,
   "id": "fe0098f4-bb6b-4df6-8f06-39c90def9ba4",
   "metadata": {},
   "outputs": [],
   "source": [
    "x = 1.5\n",
    "type(x)"
   ]
  },
  {
   "cell_type": "code",
   "execution_count": null,
   "id": "addb23d4-4006-454b-9a02-80c2ef546d7e",
   "metadata": {},
   "outputs": [],
   "source": [
    "x = \"text\"\n",
    "type(x)"
   ]
  },
  {
   "cell_type": "code",
   "execution_count": null,
   "id": "bc8ea4f1-22df-4f62-9c13-bab6ef9abc88",
   "metadata": {},
   "outputs": [],
   "source": [
    "x = True\n",
    "type(x)"
   ]
  },
  {
   "cell_type": "markdown",
   "id": "d289cff0-cf49-48b5-9195-ca7b6ae0a835",
   "metadata": {},
   "source": [
    "<p color= \"red>Note that I changed multiple times the type of x and it worked</p>"
   ]
  },
  {
   "cell_type": "markdown",
   "id": "92a61b2f-0e41-4151-9ab9-f715db85e2b8",
   "metadata": {},
   "source": [
    "<b>Note that I changed the type of x multiple times and it worked !</b>"
   ]
  },
  {
   "cell_type": "markdown",
   "id": "cfc3b4b3-cdb7-4f52-8b11-52aa1bea528c",
   "metadata": {},
   "source": [
    "Data type determines what operations can be done with variables. For example summing up two strings and two integers isn't the same"
   ]
  },
  {
   "cell_type": "code",
   "execution_count": null,
   "id": "c9dfcb1b-7c51-4af5-bfeb-c9d3ee0c6bb0",
   "metadata": {},
   "outputs": [],
   "source": [
    "x = 4\n",
    "y = 5\n",
    "x + y"
   ]
  },
  {
   "cell_type": "code",
   "execution_count": null,
   "id": "5113e413-a9e0-4413-8821-2e47309495c0",
   "metadata": {},
   "outputs": [],
   "source": [
    "x = \"A\"\n",
    "y = \"B\"\n",
    "x + y"
   ]
  },
  {
   "cell_type": "code",
   "execution_count": null,
   "id": "b6f91451-e36a-47be-9dcc-b2dbfbab209e",
   "metadata": {},
   "outputs": [],
   "source": [
    "x = True\n",
    "y = False\n",
    "x + y"
   ]
  },
  {
   "cell_type": "markdown",
   "id": "64121b63-f615-41ff-8bb8-628b54d8f9f9",
   "metadata": {},
   "source": [
    "<h2>Numeric types</h2>"
   ]
  },
  {
   "cell_type": "markdown",
   "id": "a73e9185-9d2e-48b6-9ae1-e7985e3f9e5c",
   "metadata": {},
   "source": [
    "Main numeric types:\n",
    "\n",
    " - **int**\n",
    " - **float**\n",
    "    "
   ]
  },
  {
   "cell_type": "markdown",
   "id": "441f1efb-34bd-418e-bee0-955b7d2549ad",
   "metadata": {},
   "source": [
    "Operations:"
   ]
  },
  {
   "cell_type": "code",
   "execution_count": null,
   "id": "83957bc4-2578-423c-a2b7-57fefa5cc934",
   "metadata": {},
   "outputs": [],
   "source": [
    "x = 4\n",
    "y = 5"
   ]
  },
  {
   "cell_type": "code",
   "execution_count": null,
   "id": "bede54b5-cc72-4713-b448-6e268b2c05aa",
   "metadata": {},
   "outputs": [],
   "source": [
    "x+y"
   ]
  },
  {
   "cell_type": "code",
   "execution_count": null,
   "id": "37d44492-2175-4ea3-b566-98e23c0fe1be",
   "metadata": {},
   "outputs": [],
   "source": [
    "x-y"
   ]
  },
  {
   "cell_type": "code",
   "execution_count": null,
   "id": "5d21ed57-1ea4-4238-9194-79f654bc261d",
   "metadata": {},
   "outputs": [],
   "source": [
    "x*y"
   ]
  },
  {
   "cell_type": "code",
   "execution_count": null,
   "id": "5217387d-cf4d-4dc9-b3c8-c23dd4ffe6b2",
   "metadata": {},
   "outputs": [],
   "source": [
    "x**y #x at power y"
   ]
  },
  {
   "cell_type": "markdown",
   "id": "6a146e3c-f7e6-46b4-97fb-5e387ab0e79c",
   "metadata": {},
   "source": [
    "**The result can be of a different type than the variables**"
   ]
  },
  {
   "cell_type": "code",
   "execution_count": null,
   "id": "4e2afaf9-0ec9-4d11-92b2-397122986e74",
   "metadata": {},
   "outputs": [],
   "source": [
    "x / y"
   ]
  },
  {
   "cell_type": "code",
   "execution_count": null,
   "id": "b6ef4177-6f6b-40a7-8577-614828a119c2",
   "metadata": {},
   "outputs": [],
   "source": [
    "type(x/y)"
   ]
  },
  {
   "cell_type": "code",
   "execution_count": null,
   "id": "4a612f19-5dd1-412c-a119-3603efee4cb1",
   "metadata": {},
   "outputs": [],
   "source": [
    "x % y"
   ]
  },
  {
   "cell_type": "code",
   "execution_count": null,
   "id": "810f6607-4f16-4e19-a303-a9ff15e93c61",
   "metadata": {},
   "outputs": [],
   "source": [
    "y % x"
   ]
  },
  {
   "cell_type": "markdown",
   "id": "1b9d4cda-fe0c-4317-acc3-0514b78d95e1",
   "metadata": {},
   "source": [
    "**For complex mathematical operations, you can use the math module**"
   ]
  },
  {
   "cell_type": "code",
   "execution_count": null,
   "id": "21d45956-278b-4c0a-9373-3cf245ad78ec",
   "metadata": {},
   "outputs": [],
   "source": [
    "import math"
   ]
  },
  {
   "cell_type": "code",
   "execution_count": null,
   "id": "64a39934-a23a-4d01-b6ae-785b01ab36fd",
   "metadata": {},
   "outputs": [],
   "source": [
    "math.pow(y,2)"
   ]
  },
  {
   "cell_type": "code",
   "execution_count": null,
   "id": "5ab9800c-d22e-4cd2-8e70-bce9e34266a0",
   "metadata": {},
   "outputs": [],
   "source": [
    "math.sqrt(x)"
   ]
  },
  {
   "cell_type": "code",
   "execution_count": null,
   "id": "702a0d78-2b72-4141-9344-15a440a7e2e7",
   "metadata": {},
   "outputs": [],
   "source": [
    "math.exp(x)"
   ]
  },
  {
   "cell_type": "code",
   "execution_count": null,
   "id": "18a6ebcc-3a29-4de0-bc19-95046b41de3f",
   "metadata": {},
   "outputs": [],
   "source": [
    "math.factorial(y)"
   ]
  },
  {
   "cell_type": "code",
   "execution_count": null,
   "id": "369b107a-9b2a-442e-85ec-ecd657c6e68d",
   "metadata": {},
   "outputs": [],
   "source": [
    "math.remainder(x,y)"
   ]
  },
  {
   "cell_type": "markdown",
   "id": "72814929-cefb-4c94-a6c7-0c60b1acf851",
   "metadata": {},
   "source": [
    "**Rounding**"
   ]
  },
  {
   "cell_type": "code",
   "execution_count": null,
   "id": "6cbd7790-cac5-4520-b038-dcd0293a3a3e",
   "metadata": {},
   "outputs": [],
   "source": [
    "7/x"
   ]
  },
  {
   "cell_type": "code",
   "execution_count": null,
   "id": "96ac01c9-e4c9-4a3e-a8b4-2e16f52ac7fa",
   "metadata": {},
   "outputs": [],
   "source": [
    "round(7/x)"
   ]
  },
  {
   "cell_type": "code",
   "execution_count": null,
   "id": "da9d2700-66c6-487d-bd5f-cf3ff2d82716",
   "metadata": {},
   "outputs": [],
   "source": [
    "math.floor(7/x)"
   ]
  },
  {
   "cell_type": "markdown",
   "id": "3ccd772a-240d-4846-8044-f8f295d4d059",
   "metadata": {},
   "source": [
    "**Boolean operations:**"
   ]
  },
  {
   "cell_type": "code",
   "execution_count": null,
   "id": "d93c4030-238e-4889-b0b6-57918e59677c",
   "metadata": {},
   "outputs": [],
   "source": [
    "x > y"
   ]
  },
  {
   "cell_type": "code",
   "execution_count": null,
   "id": "784d421b-c788-4387-9b92-43768ca05c38",
   "metadata": {},
   "outputs": [],
   "source": [
    "x <=y"
   ]
  },
  {
   "cell_type": "code",
   "execution_count": null,
   "id": "b0a0a11b-c5e8-435d-8052-1e609aa0d307",
   "metadata": {},
   "outputs": [],
   "source": [
    "x == y"
   ]
  },
  {
   "cell_type": "markdown",
   "id": "60443cfa-11c1-418f-81b7-1fc183af40cb",
   "metadata": {},
   "source": [
    "**Order of operations**"
   ]
  },
  {
   "cell_type": "code",
   "execution_count": null,
   "id": "01c90cc0-8b3e-42f9-95ea-24a6ccfafd95",
   "metadata": {},
   "outputs": [],
   "source": [
    "x + x / x "
   ]
  },
  {
   "cell_type": "code",
   "execution_count": null,
   "id": "4c41d3b5-f313-460e-b794-5ef1d42c4201",
   "metadata": {},
   "outputs": [],
   "source": [
    "(x + x)/x"
   ]
  },
  {
   "cell_type": "markdown",
   "id": "0f4724c6-675e-41b4-b481-16c7fd023e3d",
   "metadata": {},
   "source": [
    "**Conversion**"
   ]
  },
  {
   "cell_type": "code",
   "execution_count": null,
   "id": "fc5f2a6e-e32b-4af8-8b66-0083e17f1c5a",
   "metadata": {},
   "outputs": [],
   "source": [
    "y / x"
   ]
  },
  {
   "cell_type": "code",
   "execution_count": null,
   "id": "78069154-478e-413c-9a41-f3066ef3532f",
   "metadata": {},
   "outputs": [],
   "source": [
    "type(y/x)"
   ]
  },
  {
   "cell_type": "code",
   "execution_count": null,
   "id": "4df6b53f-c82f-4ddc-a399-4c38fe8b928f",
   "metadata": {},
   "outputs": [],
   "source": [
    "int(y/x)"
   ]
  },
  {
   "cell_type": "code",
   "execution_count": null,
   "id": "587a74f2-62b8-4480-83e3-d3cd695026fc",
   "metadata": {},
   "outputs": [],
   "source": [
    "int(4.567)"
   ]
  },
  {
   "cell_type": "code",
   "execution_count": null,
   "id": "bf7c382d-e037-408a-901c-d3f4b7c46388",
   "metadata": {},
   "outputs": [],
   "source": [
    "float(2)"
   ]
  },
  {
   "cell_type": "code",
   "execution_count": null,
   "id": "00f9eae2-2d91-48f0-8e42-3dcd20a1bc87",
   "metadata": {},
   "outputs": [],
   "source": [
    "#to binary\n",
    "bin(4)"
   ]
  },
  {
   "cell_type": "code",
   "execution_count": null,
   "id": "f1a02c8c-2220-444e-849b-c5a391d7a1da",
   "metadata": {},
   "outputs": [],
   "source": [
    "#to hex\n",
    "hex(40)"
   ]
  },
  {
   "cell_type": "code",
   "execution_count": null,
   "id": "35c9631d-8457-40f0-80c3-59e2d39e9220",
   "metadata": {},
   "outputs": [],
   "source": [
    "#to decimal\n",
    "int(0b100)"
   ]
  },
  {
   "cell_type": "code",
   "execution_count": null,
   "id": "98442b9c-89c7-47a9-8126-55d900fb7b4d",
   "metadata": {},
   "outputs": [],
   "source": [
    "#to decimal\n",
    "int(0x28)"
   ]
  },
  {
   "cell_type": "markdown",
   "id": "2df9a63b-f85c-4c75-9224-8b6e1424ef1d",
   "metadata": {},
   "source": [
    "<h2> Strings <h2>"
   ]
  },
  {
   "cell_type": "markdown",
   "id": "cbf7abdc-9997-4cf8-8f76-76dcd26bad75",
   "metadata": {},
   "source": [
    "Text data type.\n",
    "Is **immutable** (cannot be changed)"
   ]
  },
  {
   "cell_type": "code",
   "execution_count": null,
   "id": "c99ef879-4179-41d1-b869-6aa58c5bccdf",
   "metadata": {},
   "outputs": [],
   "source": [
    "x = \"Hello DevASC Students\""
   ]
  },
  {
   "cell_type": "code",
   "execution_count": null,
   "id": "4bbbef24-5ca1-4e01-ad0d-2454b60cc9e2",
   "metadata": {},
   "outputs": [],
   "source": [
    "x = 'Hello DevASC Students'"
   ]
  },
  {
   "cell_type": "code",
   "execution_count": null,
   "id": "e3388db8-31fb-4ca2-9fb0-21778a76bfec",
   "metadata": {},
   "outputs": [],
   "source": [
    "x"
   ]
  },
  {
   "cell_type": "code",
   "execution_count": null,
   "id": "f6b47c66-a991-4313-8188-ffe971f64de0",
   "metadata": {},
   "outputs": [],
   "source": [
    "print(x)"
   ]
  },
  {
   "cell_type": "code",
   "execution_count": null,
   "id": "4395979d-7ecf-4f1c-856d-8f12b1826bff",
   "metadata": {},
   "outputs": [],
   "source": [
    "x = \"Hello 'DevASC' students!\""
   ]
  },
  {
   "cell_type": "code",
   "execution_count": null,
   "id": "ac2c4ebc-02be-431c-8ad0-7fdaa17a8cab",
   "metadata": {},
   "outputs": [],
   "source": [
    "x"
   ]
  },
  {
   "cell_type": "code",
   "execution_count": null,
   "id": "bfa7c213-5f45-47fb-9466-78cbb2e25fd2",
   "metadata": {},
   "outputs": [],
   "source": [
    "x = \"Hello \\\"DevASC\\\" students!\""
   ]
  },
  {
   "cell_type": "code",
   "execution_count": null,
   "id": "6d4c9f63-257d-4b0c-9b0e-50a5a793602b",
   "metadata": {},
   "outputs": [],
   "source": [
    "x"
   ]
  },
  {
   "cell_type": "code",
   "execution_count": null,
   "id": "fc4edbc2-b6aa-4793-ad06-8ce9ebfc40a6",
   "metadata": {},
   "outputs": [],
   "source": [
    "#multiline string\n",
    "x = '''\n",
    "this is one line\n",
    "this is the second line\n",
    "this is the third line\n",
    "\n",
    "'''"
   ]
  },
  {
   "cell_type": "code",
   "execution_count": null,
   "id": "a992db20-c33b-4a38-9b62-1b8e189d70da",
   "metadata": {},
   "outputs": [],
   "source": [
    "x"
   ]
  },
  {
   "cell_type": "code",
   "execution_count": null,
   "id": "86be17ae-a07e-4d96-8106-92914c955469",
   "metadata": {},
   "outputs": [],
   "source": [
    "print(x)"
   ]
  },
  {
   "cell_type": "markdown",
   "id": "80501e0e-3651-44d1-a2e1-2aecfaa1e425",
   "metadata": {},
   "source": [
    "**Operations**"
   ]
  },
  {
   "cell_type": "code",
   "execution_count": null,
   "id": "51a89ff5-3c3e-40ba-ae41-82f14c1b368d",
   "metadata": {},
   "outputs": [],
   "source": [
    "x = \"first string\"\n",
    "z = \"+\"\n",
    "y = \"second string\"\n",
    "x + z + y"
   ]
  },
  {
   "cell_type": "code",
   "execution_count": null,
   "id": "85955f66-475e-48f5-8265-9afe1403ea67",
   "metadata": {},
   "outputs": [],
   "source": [
    "x - y # Not supported"
   ]
  },
  {
   "cell_type": "code",
   "execution_count": null,
   "id": "9abdcd28-38b8-4880-a27d-43497c1f8807",
   "metadata": {},
   "outputs": [],
   "source": [
    "x = \"0123456789\"\n",
    "x[0]"
   ]
  },
  {
   "cell_type": "code",
   "execution_count": null,
   "id": "e17c1542-55e7-4b72-bf6a-baf65f4401ea",
   "metadata": {},
   "outputs": [],
   "source": [
    "x[2]"
   ]
  },
  {
   "cell_type": "markdown",
   "id": "88a1da7b-d2b8-47a5-9820-63c1669801de",
   "metadata": {},
   "source": [
    "**Slices**"
   ]
  },
  {
   "cell_type": "code",
   "execution_count": null,
   "id": "70550dc4-3a16-45d0-bb02-c8a91049c206",
   "metadata": {},
   "outputs": [],
   "source": [
    "x[1:3]"
   ]
  },
  {
   "cell_type": "code",
   "execution_count": null,
   "id": "feb43ebd-687a-427f-9c86-f2c1b50ed294",
   "metadata": {},
   "outputs": [],
   "source": [
    "x[:3]"
   ]
  },
  {
   "cell_type": "code",
   "execution_count": null,
   "id": "6e193018-a76b-459d-96a2-4f204922bfa4",
   "metadata": {},
   "outputs": [],
   "source": [
    "x[3:]"
   ]
  },
  {
   "cell_type": "code",
   "execution_count": null,
   "id": "7df5db34-49ed-4912-b888-d1a4d4f8e3f4",
   "metadata": {},
   "outputs": [],
   "source": [
    "x[-1]"
   ]
  },
  {
   "cell_type": "code",
   "execution_count": null,
   "id": "382f1896-042f-4a9e-a422-4ab092f8e804",
   "metadata": {},
   "outputs": [],
   "source": [
    "x[:-1]"
   ]
  },
  {
   "cell_type": "markdown",
   "id": "aaf84099-1e10-4c1f-8331-08bfcc78cbe6",
   "metadata": {},
   "source": [
    "**Advanced Slices**"
   ]
  },
  {
   "cell_type": "code",
   "execution_count": null,
   "id": "c0362297-0a0c-45f9-8ee7-8595e5d98848",
   "metadata": {},
   "outputs": [],
   "source": [
    "x[0::2] # odd numbers, every second character starting with the character number 1"
   ]
  },
  {
   "cell_type": "code",
   "execution_count": null,
   "id": "e9938a6f-5e24-46f4-9f7b-e228fbda9b5d",
   "metadata": {},
   "outputs": [],
   "source": [
    "x[::-1] #reverse order"
   ]
  },
  {
   "cell_type": "markdown",
   "id": "e79f3798-683e-4c99-8375-2d445cc8d65f",
   "metadata": {},
   "source": [
    "**Concatinating with variables**"
   ]
  },
  {
   "cell_type": "code",
   "execution_count": null,
   "id": "24ed76eb-75e4-45d2-981a-ba84967ed992",
   "metadata": {},
   "outputs": [],
   "source": [
    "x = \"my value\"\n",
    "print(\"This is an example of inserting a variable in a string. The variable is: \" + x + \". The end\")"
   ]
  },
  {
   "cell_type": "markdown",
   "id": "4f22dd8f-a256-4166-ba83-3c543f19a7bd",
   "metadata": {},
   "source": [
    "**Or**"
   ]
  },
  {
   "cell_type": "code",
   "execution_count": null,
   "id": "c3c88fcc-17a4-4a71-a4ee-4fc28b9ee8fb",
   "metadata": {},
   "outputs": [],
   "source": [
    "#Old style\n",
    "x = \"my value\"\n",
    "print(\"This is an example of inserting a variable in a string. The variable is: {}\".format(x))"
   ]
  },
  {
   "cell_type": "code",
   "execution_count": null,
   "id": "eaedb0d7-da11-461d-9635-f1fb0c3332d5",
   "metadata": {},
   "outputs": [],
   "source": [
    "x = \"value1\"\n",
    "y = \"value2\"\n",
    "print(\"The values are: {}, {}\".format(x,y))"
   ]
  },
  {
   "cell_type": "markdown",
   "id": "3bea9294-3b9f-4605-8e60-62bcd752635e",
   "metadata": {},
   "source": [
    "**New style: f-strings in Python >= 3.6**"
   ]
  },
  {
   "cell_type": "code",
   "execution_count": null,
   "id": "9920fa28-6398-4467-b3c5-3838a5bf6d8d",
   "metadata": {},
   "outputs": [],
   "source": [
    "x = \"my value\"\n",
    "print(f\"This is an example of inserting a variable in a string. The variable is: {x}\")"
   ]
  },
  {
   "cell_type": "markdown",
   "id": "cd93e71c-475f-4230-b2b3-bda7b3cad647",
   "metadata": {},
   "source": [
    "**More operations:**"
   ]
  },
  {
   "cell_type": "code",
   "execution_count": null,
   "id": "52cac650-8770-4648-91d2-65389b9f7672",
   "metadata": {},
   "outputs": [],
   "source": [
    "x = \"my string\"\n",
    "len(x)"
   ]
  },
  {
   "cell_type": "code",
   "execution_count": null,
   "id": "d62015e9-5413-4198-96be-37b57a96f8aa",
   "metadata": {},
   "outputs": [],
   "source": []
  },
  {
   "cell_type": "code",
   "execution_count": null,
   "id": "433b069a-ae85-4554-ad61-93471f7ff7cf",
   "metadata": {},
   "outputs": [],
   "source": [
    "x = \"my string\"\n",
    "y = \"my string\"\n",
    "x == y"
   ]
  },
  {
   "cell_type": "code",
   "execution_count": null,
   "id": "26fa097c-7eef-48e7-b495-2e2d25dda6e4",
   "metadata": {},
   "outputs": [],
   "source": [
    "\"my\" in x"
   ]
  },
  {
   "cell_type": "code",
   "execution_count": null,
   "id": "46815478-f038-4432-b126-19922c397975",
   "metadata": {},
   "outputs": [],
   "source": [
    "y > x"
   ]
  },
  {
   "cell_type": "code",
   "execution_count": null,
   "id": "d1029bb1-17ad-4794-9ac0-a9b787842c23",
   "metadata": {},
   "outputs": [],
   "source": [
    "x = \"my string\"\n",
    "y = \"my string and then some\""
   ]
  },
  {
   "cell_type": "code",
   "execution_count": null,
   "id": "7c8d5aa6-a879-40fe-9302-46638f3d7b5b",
   "metadata": {},
   "outputs": [],
   "source": [
    "y > x"
   ]
  },
  {
   "cell_type": "markdown",
   "id": "f85acff3-db55-46b4-849e-6671ec9ca1b3",
   "metadata": {},
   "source": [
    "**Methods**"
   ]
  },
  {
   "cell_type": "code",
   "execution_count": null,
   "id": "d45f5e37-4086-446e-896c-fd7f56a12bf1",
   "metadata": {},
   "outputs": [],
   "source": [
    "x = \"my string\"\n",
    "x.upper()"
   ]
  },
  {
   "cell_type": "code",
   "execution_count": null,
   "id": "ea6084a2-72b0-49ec-b921-b4cdf864b3d7",
   "metadata": {},
   "outputs": [],
   "source": [
    "x = \"My string\"\n",
    "x.lower()"
   ]
  },
  {
   "cell_type": "code",
   "execution_count": null,
   "id": "cdbde0b3-a6c1-460b-8d31-7c0a31a7b0ee",
   "metadata": {},
   "outputs": [],
   "source": [
    "x.swapcase()"
   ]
  },
  {
   "cell_type": "code",
   "execution_count": null,
   "id": "6df524ad-6776-433e-8494-b46e0c5c4bdb",
   "metadata": {},
   "outputs": [],
   "source": [
    "x.capitalize()"
   ]
  },
  {
   "cell_type": "code",
   "execution_count": null,
   "id": "28dda209-bb85-466e-80e8-9304afddf34d",
   "metadata": {},
   "outputs": [],
   "source": [
    "x.replace(\"My\",\"Your\")"
   ]
  },
  {
   "cell_type": "code",
   "execution_count": null,
   "id": "9800e08b-aa0e-4fe8-b81f-7f0d5a64c6d2",
   "metadata": {},
   "outputs": [],
   "source": [
    "x #it does not change the string"
   ]
  },
  {
   "cell_type": "code",
   "execution_count": null,
   "id": "6eac23ec-45de-4e49-b850-f24bccb7dd7a",
   "metadata": {},
   "outputs": [],
   "source": [
    "x.find(\"string\")"
   ]
  },
  {
   "cell_type": "code",
   "execution_count": null,
   "id": "44b22aec-0c6b-4e7a-996d-512f47022d30",
   "metadata": {},
   "outputs": [],
   "source": [
    "x[3:]"
   ]
  },
  {
   "cell_type": "code",
   "execution_count": null,
   "id": "18278830-c5e5-4190-be50-f51b88043fd6",
   "metadata": {},
   "outputs": [],
   "source": [
    "x = \"lalala\"\n",
    "x.find(\"la\") #returns the first occurence"
   ]
  },
  {
   "cell_type": "code",
   "execution_count": null,
   "id": "8c689890-74eb-4580-9c67-12af4dccecfd",
   "metadata": {},
   "outputs": [],
   "source": [
    "x = \"lalala\"\n",
    "x.count(\"la\")"
   ]
  },
  {
   "cell_type": "code",
   "execution_count": null,
   "id": "82da6721-c95e-41e0-8a53-496b3ebb29b6",
   "metadata": {},
   "outputs": [],
   "source": [
    "x = \" asdfee \"\n",
    "x"
   ]
  },
  {
   "cell_type": "code",
   "execution_count": null,
   "id": "233ca809-429f-42a2-a301-96d06e18e945",
   "metadata": {},
   "outputs": [],
   "source": [
    "x.strip() #removes blanc characters \\n\\r\\f\\v\\t"
   ]
  },
  {
   "cell_type": "code",
   "execution_count": null,
   "id": "c1dd8730-d8af-4f55-9c9a-c6a2a725c94e",
   "metadata": {},
   "outputs": [],
   "source": [
    "x = \"**myvalue*]\"\n",
    "x.strip(\"*]\")"
   ]
  },
  {
   "cell_type": "code",
   "execution_count": null,
   "id": "92bef1d3-80ff-41f4-86ca-3b48e12aa25c",
   "metadata": {},
   "outputs": [],
   "source": [
    "x = \"value1 value2 value3\"\n",
    "x.split()"
   ]
  },
  {
   "cell_type": "code",
   "execution_count": null,
   "id": "4060bf34-702f-4b8f-b636-107bc8d94bfa",
   "metadata": {},
   "outputs": [],
   "source": [
    "#any number of whitespaces are considered as 1\n",
    "x = \"value1   value2    value3\"\n",
    "x.split()"
   ]
  },
  {
   "cell_type": "code",
   "execution_count": null,
   "id": "c0ddb371-3244-4aca-8691-64eae0d0bd1e",
   "metadata": {},
   "outputs": [],
   "source": [
    "#specify split delimiter\n",
    "x = \"value1,value2,value3\"\n",
    "x.split(\",\")"
   ]
  },
  {
   "cell_type": "markdown",
   "id": "44f8c4d3-2ba2-4c1b-b84d-409c8b5f7706",
   "metadata": {},
   "source": [
    "**Conversion**"
   ]
  },
  {
   "cell_type": "code",
   "execution_count": null,
   "id": "6692e7a5-bbd9-4d1c-96f0-72c8db420f7d",
   "metadata": {},
   "outputs": [],
   "source": [
    "x = 2.3\n",
    "str(x)"
   ]
  },
  {
   "cell_type": "code",
   "execution_count": null,
   "id": "2b3d7215-ab25-43c6-99f1-495096765023",
   "metadata": {},
   "outputs": [],
   "source": [
    "x = \"2\"\n",
    "int(x)"
   ]
  },
  {
   "cell_type": "code",
   "execution_count": null,
   "id": "6e4131d0-7a8b-4141-a229-564dafea3957",
   "metadata": {},
   "outputs": [],
   "source": [
    "x = \"asdf\"\n",
    "int(x)"
   ]
  },
  {
   "cell_type": "markdown",
   "id": "38326782-dbd0-4b4d-b554-c3acc5827c4a",
   "metadata": {},
   "source": [
    "**You must convert to string before printing. With integer it's done automatically**"
   ]
  },
  {
   "cell_type": "markdown",
   "id": "c2278792-6305-4446-88de-ae01362bf609",
   "metadata": {},
   "source": [
    "<h2>Boolean</h2>"
   ]
  },
  {
   "cell_type": "markdown",
   "id": "b578044f-d5ea-4686-907d-db7589386520",
   "metadata": {},
   "source": [
    "Two values: True or False\n",
    "\n",
    "Expands to other data types also:"
   ]
  },
  {
   "cell_type": "code",
   "execution_count": null,
   "id": "49fba445-8428-4d31-b318-bf8daf5b3c87",
   "metadata": {},
   "outputs": [],
   "source": [
    "bool(\"hello\")"
   ]
  },
  {
   "cell_type": "code",
   "execution_count": null,
   "id": "47b0f66b-cf99-4a87-b1f9-0f47e3b5e373",
   "metadata": {},
   "outputs": [],
   "source": [
    "bool(\"\") # empty string is False"
   ]
  },
  {
   "cell_type": "code",
   "execution_count": null,
   "id": "95d5ab97-d34e-40c0-b7bc-03153f7d51d6",
   "metadata": {},
   "outputs": [],
   "source": [
    "bool(1)"
   ]
  },
  {
   "cell_type": "code",
   "execution_count": null,
   "id": "89f47d89-1baa-4234-bd8c-778338292413",
   "metadata": {},
   "outputs": [],
   "source": [
    "bool(0) # zero = False"
   ]
  },
  {
   "cell_type": "code",
   "execution_count": null,
   "id": "b2fed061-057a-40c0-8796-0ea31c891bb7",
   "metadata": {},
   "outputs": [],
   "source": [
    "bool(-1)"
   ]
  },
  {
   "cell_type": "code",
   "execution_count": null,
   "id": "eb05146a-da01-47f6-b86f-09372297a8aa",
   "metadata": {},
   "outputs": [],
   "source": [
    "#Empty object\n",
    "x = {}\n",
    "bool(x)"
   ]
  },
  {
   "cell_type": "code",
   "execution_count": null,
   "id": "47f1826f-18d3-4977-ba88-30216e0a8ebf",
   "metadata": {},
   "outputs": [],
   "source": [
    "#Non empty object\n",
    "x = {\"test\":\"test2\"}\n",
    "bool(x)"
   ]
  },
  {
   "cell_type": "code",
   "execution_count": null,
   "id": "3bb1222b-848c-40b3-97d4-569cca44e05c",
   "metadata": {},
   "outputs": [],
   "source": [
    "#Result of comparison\n",
    "x = 1\n",
    "y = 2\n",
    "x == y"
   ]
  },
  {
   "cell_type": "markdown",
   "id": "5bc5ad1f-a3bf-4541-9f58-25368cdaa60e",
   "metadata": {},
   "source": [
    "**Operations**"
   ]
  },
  {
   "cell_type": "code",
   "execution_count": null,
   "id": "fefe08c2-e2a6-4cc3-9c6f-8705198ce91b",
   "metadata": {},
   "outputs": [],
   "source": [
    "x = True\n",
    "y = False"
   ]
  },
  {
   "cell_type": "code",
   "execution_count": null,
   "id": "6ef5b1f3-4d2a-4131-a3ba-2357d6b094bf",
   "metadata": {},
   "outputs": [],
   "source": [
    "x or y"
   ]
  },
  {
   "cell_type": "code",
   "execution_count": null,
   "id": "9eaef40d-a96d-4c9c-a991-a06caa473599",
   "metadata": {},
   "outputs": [],
   "source": [
    "x and y"
   ]
  },
  {
   "cell_type": "code",
   "execution_count": null,
   "id": "49203d37-0286-45e9-9fce-e185977ce313",
   "metadata": {},
   "outputs": [],
   "source": [
    "not x"
   ]
  },
  {
   "cell_type": "markdown",
   "id": "bf6ca517-4ad9-4832-a43a-bf5069e2932b",
   "metadata": {},
   "source": [
    "<h2>Lists</h2>"
   ]
  },
  {
   "cell_type": "markdown",
   "id": "c95445d2-9a11-4437-a9e4-3d2af7e8f4c9",
   "metadata": {},
   "source": [
    "List = sequence of elements (of any type)\n",
    "**mutable and ordered** data type - order of elements is preserved, can be changed\n"
   ]
  },
  {
   "cell_type": "code",
   "execution_count": null,
   "id": "e453531a-8970-4684-862d-3b5c6b7375fc",
   "metadata": {},
   "outputs": [],
   "source": [
    "x = [1,\"hola\",True]"
   ]
  },
  {
   "cell_type": "code",
   "execution_count": null,
   "id": "8343ed58-cc89-4653-931d-f4e5e9214ca1",
   "metadata": {},
   "outputs": [],
   "source": [
    "x[0]"
   ]
  },
  {
   "cell_type": "code",
   "execution_count": null,
   "id": "72dda9c0-91af-4a02-acf3-b7f037844c36",
   "metadata": {},
   "outputs": [],
   "source": [
    "x[2]"
   ]
  },
  {
   "cell_type": "code",
   "execution_count": null,
   "id": "6ba8fcd1-c774-43be-94eb-3412318d7b45",
   "metadata": {},
   "outputs": [],
   "source": [
    "x[3]#cannot exceed the list lenght"
   ]
  },
  {
   "cell_type": "code",
   "execution_count": null,
   "id": "09aa5bb4-49f1-462d-83d8-6cc767cb48a7",
   "metadata": {},
   "outputs": [],
   "source": [
    "#number of elements\n",
    "len(x)"
   ]
  },
  {
   "cell_type": "code",
   "execution_count": null,
   "id": "96cc4c4a-ce30-42dc-9226-e6d1863c8611",
   "metadata": {},
   "outputs": [],
   "source": [
    "x.reverse() #modifies the variable"
   ]
  },
  {
   "cell_type": "code",
   "execution_count": null,
   "id": "b5fd39c6-15dd-47df-8877-a09fcdce5c73",
   "metadata": {},
   "outputs": [],
   "source": [
    "x"
   ]
  },
  {
   "cell_type": "code",
   "execution_count": null,
   "id": "ad14d462-a537-4278-bfde-a3b38645dd38",
   "metadata": {},
   "outputs": [],
   "source": [
    "x[2] = \"hello\""
   ]
  },
  {
   "cell_type": "code",
   "execution_count": null,
   "id": "0b7c8b46-def5-4740-943a-db4893055c48",
   "metadata": {},
   "outputs": [],
   "source": [
    "x"
   ]
  },
  {
   "cell_type": "code",
   "execution_count": null,
   "id": "571d402c-2b5d-49d3-8325-0ca016e441b4",
   "metadata": {},
   "outputs": [],
   "source": [
    "#a list element can be also a list, and so on\n",
    "x = [1,2,[1,2]]\n",
    "y = [[1,2,[1,2]]]"
   ]
  },
  {
   "cell_type": "markdown",
   "id": "9b480d71-8e77-4f67-a980-6fc5f220f25a",
   "metadata": {},
   "source": [
    "**Operations**"
   ]
  },
  {
   "cell_type": "code",
   "execution_count": null,
   "id": "489fd06c-fb7e-41d4-b1fa-e1fb3ec6159f",
   "metadata": {},
   "outputs": [],
   "source": [
    "x = [1,2,3]\n",
    "y = [4,5,6]"
   ]
  },
  {
   "cell_type": "code",
   "execution_count": null,
   "id": "dd84c230-14e4-4038-97fc-41c0819197d6",
   "metadata": {},
   "outputs": [],
   "source": [
    "x + y"
   ]
  },
  {
   "cell_type": "code",
   "execution_count": null,
   "id": "e8328fa8-6bbd-42b7-b7a2-3a2a62f5ab3e",
   "metadata": {},
   "outputs": [],
   "source": [
    "x - y"
   ]
  },
  {
   "cell_type": "code",
   "execution_count": null,
   "id": "36be8b0b-400b-4553-a903-6e2c3317a1fd",
   "metadata": {},
   "outputs": [],
   "source": [
    "x.append(y)"
   ]
  },
  {
   "cell_type": "code",
   "execution_count": null,
   "id": "1bd631e6-57c0-4a7c-a401-0c4500c3d3f4",
   "metadata": {},
   "outputs": [],
   "source": [
    "x"
   ]
  },
  {
   "cell_type": "code",
   "execution_count": null,
   "id": "e27723fc-f09a-4bd2-a66f-ce4a5a4571f0",
   "metadata": {},
   "outputs": [],
   "source": [
    "x.pop() # deletes the last item from the list\n"
   ]
  },
  {
   "cell_type": "code",
   "execution_count": null,
   "id": "556b972e-9c36-4f66-8ddb-836a839a3e05",
   "metadata": {},
   "outputs": [],
   "source": [
    "x"
   ]
  },
  {
   "cell_type": "code",
   "execution_count": null,
   "id": "5910a701-63e9-4772-9707-5f2925238f64",
   "metadata": {},
   "outputs": [],
   "source": [
    "#you can also specify what item you want to remove\n",
    "x.pop(1)"
   ]
  },
  {
   "cell_type": "code",
   "execution_count": null,
   "id": "bababd5c-9e3a-4066-84ba-b669416344ed",
   "metadata": {},
   "outputs": [],
   "source": [
    "#the change is permanent\n",
    "x"
   ]
  },
  {
   "cell_type": "code",
   "execution_count": null,
   "id": "67a4f5fe-5a4a-4a31-8e30-4e36636577a9",
   "metadata": {},
   "outputs": [],
   "source": [
    "x = [1,2,3]\n",
    "x.remove(2)"
   ]
  },
  {
   "cell_type": "code",
   "execution_count": null,
   "id": "2134c4a6-a313-40a8-9a5b-7caad1cbce72",
   "metadata": {},
   "outputs": [],
   "source": [
    "x"
   ]
  },
  {
   "cell_type": "code",
   "execution_count": null,
   "id": "3e4c9ec5-61f3-44d7-a6b0-1411c110b609",
   "metadata": {},
   "outputs": [],
   "source": [
    "x.index(1)#returns the first index of the passed value"
   ]
  },
  {
   "cell_type": "code",
   "execution_count": null,
   "id": "11c8c16e-f694-4525-a4fa-5e3f0c5240d6",
   "metadata": {},
   "outputs": [],
   "source": [
    "x = [1,1,3,4,1]\n",
    "x.index(1)"
   ]
  },
  {
   "cell_type": "markdown",
   "id": "c62ad79c-69fa-469e-a9c6-65e3918fdfb5",
   "metadata": {},
   "source": [
    "<h2>Dictionary</h2>"
   ]
  },
  {
   "cell_type": "markdown",
   "id": "e7f7c8ad-2e0f-4031-9afb-d353369259f0",
   "metadata": {},
   "source": [
    "A mutable ordered data type\n",
    "Key - value structure.\n",
    "- **The key should be of immutable type**, like string, not int or list\n",
    "- The values can be any data type (even another dictionary)\n",
    "- Is a lot like JSON format, (if you know json)\n"
   ]
  },
  {
   "cell_type": "code",
   "execution_count": null,
   "id": "1427d54f-3d61-4f2b-9254-655b33d68017",
   "metadata": {},
   "outputs": [],
   "source": [
    "x = {\n",
    "    \"key1\":\"value1\",\n",
    "    \"key2\":\"value2\",\n",
    "    \"key3\":\"value3\"\n",
    "}"
   ]
  },
  {
   "cell_type": "code",
   "execution_count": null,
   "id": "4e47eb8f-14f0-4669-8a2b-a5f2885a29df",
   "metadata": {},
   "outputs": [],
   "source": [
    "x"
   ]
  },
  {
   "cell_type": "code",
   "execution_count": null,
   "id": "31348a70-ed2c-420c-afab-91d3aeb2da88",
   "metadata": {},
   "outputs": [],
   "source": [
    "#More complex example: dict in dict in dict\n",
    "y = {\n",
    "    \"interfaces\" : {\n",
    "        \"Fa0/1\" : {\n",
    "            \"ip address\" : \"1.1.1.1/24\",\n",
    "            \"speed\": 100,\n",
    "            \"duplex\": \"auto\"\n",
    "    },\n",
    "        \"Fa0/2\" : {\n",
    "            \"ip address\" : \"2.2.2.2/24\",\n",
    "            \"speed\": 100,\n",
    "            \"duplex\": \"auto\"\n",
    "    }\n",
    "    }\n",
    "}"
   ]
  },
  {
   "cell_type": "code",
   "execution_count": null,
   "id": "d168ac7a-e25a-4ade-86a1-cbb21608ff8e",
   "metadata": {},
   "outputs": [],
   "source": [
    "y"
   ]
  },
  {
   "cell_type": "markdown",
   "id": "ea6c7b7d-7564-4c09-8066-3068e112dc0d",
   "metadata": {},
   "source": [
    "Lists can have dictionaries as items, that have lists as values, that have dictionaries ... You got the idea"
   ]
  },
  {
   "cell_type": "code",
   "execution_count": null,
   "id": "a62d0899-3e34-477c-be5c-8341f12549c3",
   "metadata": {},
   "outputs": [],
   "source": [
    "z = [{\"k1\":\"v1\",\"k2\":\"v2\", \"k3\":[1,2,3]}, True, 232 ]"
   ]
  },
  {
   "cell_type": "code",
   "execution_count": null,
   "id": "ea58c4ec-ab91-4ef6-9e6e-9614cc3f43bd",
   "metadata": {},
   "outputs": [],
   "source": [
    "z"
   ]
  },
  {
   "cell_type": "markdown",
   "id": "670f3542-9e0e-4768-98cb-ddac81088435",
   "metadata": {},
   "source": [
    "**Retrieving the values**"
   ]
  },
  {
   "cell_type": "code",
   "execution_count": null,
   "id": "df7c18ae-0f1c-4bb7-978e-7c16981483c0",
   "metadata": {},
   "outputs": [],
   "source": [
    "x[\"key1\"]"
   ]
  },
  {
   "cell_type": "code",
   "execution_count": null,
   "id": "5b701a1f-4aad-4f01-950e-2b9cd1069e9b",
   "metadata": {},
   "outputs": [],
   "source": [
    "y[\"interfaces\"][\"Fa0/1\"][\"ip address\"]"
   ]
  },
  {
   "cell_type": "code",
   "execution_count": null,
   "id": "72b32bfc-c309-4ef8-be48-894ae334e63f",
   "metadata": {},
   "outputs": [],
   "source": [
    "#add a new value\n",
    "x[\"key4\"] = \"value4\""
   ]
  },
  {
   "cell_type": "code",
   "execution_count": null,
   "id": "6934e61e-2e08-44af-8f34-4862bc9e82d7",
   "metadata": {},
   "outputs": [],
   "source": [
    "#change value\n",
    "x[\"key3\"] = \"new value 3\""
   ]
  },
  {
   "cell_type": "code",
   "execution_count": null,
   "id": "88cdac3d-8efb-4c6a-b02a-15aeaa24519d",
   "metadata": {},
   "outputs": [],
   "source": [
    "x"
   ]
  },
  {
   "cell_type": "markdown",
   "id": "9bcfdb1d-93cd-4b0a-ad7a-af1e65fb4d29",
   "metadata": {},
   "source": [
    "**Methods**"
   ]
  },
  {
   "cell_type": "code",
   "execution_count": null,
   "id": "3e2e3cbf-bc8b-4f4b-bcc5-a4755a76c900",
   "metadata": {},
   "outputs": [],
   "source": [
    "x"
   ]
  },
  {
   "cell_type": "code",
   "execution_count": null,
   "id": "392a90f8-89da-41fa-a4a4-7ef95ecd2e08",
   "metadata": {},
   "outputs": [],
   "source": [
    "x[\"key1\"]"
   ]
  },
  {
   "cell_type": "code",
   "execution_count": null,
   "id": "cb8a7cf7-b523-460f-81cb-da8e7ee0a4e7",
   "metadata": {},
   "outputs": [],
   "source": [
    " y = x"
   ]
  },
  {
   "cell_type": "code",
   "execution_count": null,
   "id": "5385c93f-935c-446c-9671-1cee918a7cf9",
   "metadata": {},
   "outputs": [],
   "source": [
    "y[\"key1\"] = \"new value from y\""
   ]
  },
  {
   "cell_type": "code",
   "execution_count": null,
   "id": "d49baddf-0a65-4508-84fc-7fea14b53305",
   "metadata": {},
   "outputs": [],
   "source": [
    "x[\"key1\"] #dictionaries are copyed by reference."
   ]
  },
  {
   "cell_type": "code",
   "execution_count": null,
   "id": "8d24bd60-58c4-46aa-88d9-e8c1a0d2036e",
   "metadata": {},
   "outputs": [],
   "source": [
    "#Solution\n",
    "y = x.copy() #make a copy of the dictionary (not to change the old one)"
   ]
  },
  {
   "cell_type": "code",
   "execution_count": null,
   "id": "939b602f-39b5-4ddf-a2e1-a26050ae993c",
   "metadata": {},
   "outputs": [],
   "source": [
    "y[\"key1\"] = \"The newest value from y\""
   ]
  },
  {
   "cell_type": "code",
   "execution_count": null,
   "id": "9eb28dc1-b61a-4841-a1af-233bd6838ff4",
   "metadata": {},
   "outputs": [],
   "source": [
    "x[\"key1\"]"
   ]
  },
  {
   "cell_type": "code",
   "execution_count": null,
   "id": "7ceb89b3-5342-4f2b-917a-aff1efab9d67",
   "metadata": {},
   "outputs": [],
   "source": [
    "#if key not present - error\n",
    "x[\"non-existing key\"]"
   ]
  },
  {
   "cell_type": "code",
   "execution_count": null,
   "id": "ade7edc1-3b91-46a9-9694-1975685d03ac",
   "metadata": {},
   "outputs": [],
   "source": [
    "#you can use get\n",
    "x.get(\"non-existing key\")"
   ]
  },
  {
   "cell_type": "code",
   "execution_count": null,
   "id": "781be35d-a06a-43b5-a752-2c71edf7d6ba",
   "metadata": {},
   "outputs": [],
   "source": [
    "x.get(\"key1\")"
   ]
  },
  {
   "cell_type": "code",
   "execution_count": null,
   "id": "3fc4bdad-0c2f-4f06-bc26-0629c8d91128",
   "metadata": {},
   "outputs": [],
   "source": [
    "x.keys() #get list of keys"
   ]
  },
  {
   "cell_type": "code",
   "execution_count": null,
   "id": "d641781e-3ee6-48d7-8b7f-94976bd9069b",
   "metadata": {},
   "outputs": [],
   "source": [
    "x.values() #list of values"
   ]
  },
  {
   "cell_type": "code",
   "execution_count": null,
   "id": "66e61dbc-ab09-404b-bedd-4992a44e4cb6",
   "metadata": {},
   "outputs": [],
   "source": [
    "del x[\"key1\"]"
   ]
  },
  {
   "cell_type": "code",
   "execution_count": null,
   "id": "514e4c04-eafe-4592-9adc-7866022ac968",
   "metadata": {},
   "outputs": [],
   "source": [
    "x"
   ]
  },
  {
   "cell_type": "markdown",
   "id": "6638e50b-ac7e-43f0-b771-fe7b7a69c85c",
   "metadata": {},
   "source": [
    "<h2>Tuples and Sets </h2>"
   ]
  },
  {
   "cell_type": "markdown",
   "id": "0c8601c8-8ac9-4573-aa6a-56c3591e0f2f",
   "metadata": {},
   "source": [
    "- Normally I don't use them"
   ]
  },
  {
   "cell_type": "markdown",
   "id": "3b30144d-1087-47cb-bffb-c4e47f71b7ff",
   "metadata": {},
   "source": [
    "- **Tuple** = is like list, but immutable, with round paranthesis"
   ]
  },
  {
   "cell_type": "code",
   "execution_count": null,
   "id": "cb216279-d028-4454-af77-64139188e176",
   "metadata": {},
   "outputs": [],
   "source": [
    "x = (1,2,3, \"test\")"
   ]
  },
  {
   "cell_type": "code",
   "execution_count": null,
   "id": "a42da72e-d241-4127-8064-59ae51d483fe",
   "metadata": {},
   "outputs": [],
   "source": [
    "x[2]"
   ]
  },
  {
   "cell_type": "code",
   "execution_count": null,
   "id": "1439167b-eb52-46d1-a618-b02f42421ba7",
   "metadata": {},
   "outputs": [],
   "source": [
    "x[2] = 2 #immutable, cannot assign new value, can use as a key in the dictionary"
   ]
  },
  {
   "cell_type": "code",
   "execution_count": null,
   "id": "7de169ad-52d3-4d25-998e-a8f345dee469",
   "metadata": {},
   "outputs": [],
   "source": [
    "#for a list it would have worked\n",
    "x = [1,2,3,4]\n",
    "x[2] = \"test\""
   ]
  },
  {
   "cell_type": "code",
   "execution_count": null,
   "id": "4b710d4b-acc1-4a50-8295-2974ad588dcf",
   "metadata": {},
   "outputs": [],
   "source": [
    "x"
   ]
  },
  {
   "cell_type": "markdown",
   "id": "47588101-f140-4312-ba0e-c5eb9c2342ab",
   "metadata": {},
   "source": [
    "**Set** - like a list with only unique values"
   ]
  },
  {
   "cell_type": "code",
   "execution_count": null,
   "id": "a5ecc523-32f1-4c13-af0a-8c78e13b42be",
   "metadata": {},
   "outputs": [],
   "source": [
    "x = {1,2,3,4}"
   ]
  },
  {
   "cell_type": "code",
   "execution_count": null,
   "id": "5b2b2d75-12ca-4b12-b1e2-1476a3938015",
   "metadata": {},
   "outputs": [],
   "source": [
    "x"
   ]
  },
  {
   "cell_type": "code",
   "execution_count": null,
   "id": "c4bba438-eeb0-44ad-bac6-7492b2e1cd85",
   "metadata": {},
   "outputs": [],
   "source": [
    "x = {1,2,2,4}"
   ]
  },
  {
   "cell_type": "code",
   "execution_count": null,
   "id": "33c63cfd-d869-4ac9-853e-66aeb5728d43",
   "metadata": {},
   "outputs": [],
   "source": [
    "x"
   ]
  },
  {
   "cell_type": "markdown",
   "id": "f6d144ba-f965-41c2-bc34-b6e9e74b77f0",
   "metadata": {},
   "source": [
    "<h2> Exercises </h2>"
   ]
  },
  {
   "cell_type": "markdown",
   "id": "ed906db8-e03b-4b58-b253-277783bb231a",
   "metadata": {},
   "source": [
    "**1.1 Write code that replaces the letters 'm' in the first half of a string with 'M'**\n",
    "\n",
    "- **input:** \"memory\"\n",
    "- **expected result:** MeMory\n",
    "- **input:** \"miniminiminimini:\n",
    "- **expected result:** \"MiniMiniminimini\"\n",
    "\n",
    "Note, if the string has uneven number of characters, replace 'm's in the bigger half"
   ]
  },
  {
   "cell_type": "code",
   "execution_count": null,
   "id": "e15a49ef-5b80-4b40-94c4-cf748da03c16",
   "metadata": {},
   "outputs": [],
   "source": []
  },
  {
   "cell_type": "markdown",
   "id": "4f5704de-cc28-4e50-884f-272991531a92",
   "metadata": {},
   "source": [
    "**1.2 Given a string which is a configuration line, containing the ip address of the format 'ip address 1.1.1.1 255.255.255.0', convert it to a different format: 'ipv4-address 1.1.1.1 255.255.255.0**\n",
    "\n",
    "- **input:** 'ip address 1.1.1.1 255.255.255.0'\n",
    "- **expected result:** 'ipv4-address 1.1.1.1 255.255.255.0'\n"
   ]
  },
  {
   "cell_type": "code",
   "execution_count": null,
   "id": "471ee780-65d2-42e6-9560-85812fd36947",
   "metadata": {},
   "outputs": [],
   "source": []
  },
  {
   "cell_type": "markdown",
   "id": "25df553f-a14e-4512-8835-9d40f249e2f6",
   "metadata": {},
   "source": [
    "**1.3 Given the configuration line containing a list of allowed vlans (example: 'switchport trunk allowed vlans 1,2,3,500,900'), extract all the allowed vlans in a list**\n",
    "\n",
    "- **input:** \"'switchport trunk allowed vlans 1,2,3,500,900'\"\n",
    "- **expected result:** [1,2,4,500,900]"
   ]
  },
  {
   "cell_type": "code",
   "execution_count": null,
   "id": "22605100-abb5-4b01-b57d-52ef14ead6a3",
   "metadata": {},
   "outputs": [],
   "source": []
  },
  {
   "cell_type": "markdown",
   "id": "22094b61-0a93-49ba-a796-548e384e82bd",
   "metadata": {},
   "source": [
    "<h1>2. Conditions loops and functions</h1>"
   ]
  },
  {
   "cell_type": "markdown",
   "id": "82a27357-0a79-4bb7-aee0-516d55f16c92",
   "metadata": {},
   "source": [
    "**Identation matters!**"
   ]
  },
  {
   "cell_type": "markdown",
   "id": "58832279-492b-432a-ba87-51411daf0b64",
   "metadata": {},
   "source": [
    "<h2> IF ... else </h2>"
   ]
  },
  {
   "cell_type": "code",
   "execution_count": null,
   "id": "023b3617-c744-4088-b0e6-511e65b373d0",
   "metadata": {},
   "outputs": [],
   "source": [
    "x = 1\n",
    "if x > 2:\n",
    "    print(\"X is good\")"
   ]
  },
  {
   "cell_type": "code",
   "execution_count": null,
   "id": "52bd7492-9723-4663-9c1b-1be76be3758a",
   "metadata": {},
   "outputs": [],
   "source": [
    "x = 1\n",
    "if x > 2:\n",
    "    print(\"X is good\")\n",
    "else:\n",
    "    print(\"X is not good\")\n",
    "    print(\"X is not good\")\n",
    "    print(\"X is not good\")"
   ]
  },
  {
   "cell_type": "code",
   "execution_count": null,
   "id": "dc5d807f-2653-4a74-b7f4-0bf5994b09cf",
   "metadata": {},
   "outputs": [],
   "source": [
    "x = 2\n",
    "if x > 1:\n",
    "    print(\"X is very good\")\n",
    "elif x == 2:\n",
    "    print(\"X is ok\")\n",
    "elif x == 1:\n",
    "    print(\"X is okeish\")\n",
    "else:\n",
    "    print(\"X is not good\")"
   ]
  },
  {
   "cell_type": "markdown",
   "id": "b8e013a0-3f4c-4665-9a9c-77c63a389095",
   "metadata": {},
   "source": [
    "<h2> For loop </h2>"
   ]
  },
  {
   "cell_type": "code",
   "execution_count": null,
   "id": "bc45ec50-5463-48f6-b88a-257563dc2a29",
   "metadata": {},
   "outputs": [],
   "source": [
    "my_items = [\"pencil\", \"pen\", \"notebook\"]\n",
    "\n",
    "for i in my_items:\n",
    "    print(f\"Item {i} has length {len(i)}\")"
   ]
  },
  {
   "cell_type": "markdown",
   "id": "a6825212-c18c-4053-9fd8-62db449e3f91",
   "metadata": {},
   "source": [
    "<h2> While loop </h2>"
   ]
  },
  {
   "cell_type": "code",
   "execution_count": null,
   "id": "c85d9013-000d-4c25-ac3d-1710cee5cae6",
   "metadata": {},
   "outputs": [],
   "source": [
    "x = 1\n",
    "\n",
    "while x < 5:\n",
    "    print(f\"X is {x} and it satisfies our condition\")\n",
    "    x += 1 #try to comment this line\n",
    "\n",
    "print(f\"X is {x} and it does not satisfy our condition\")"
   ]
  },
  {
   "cell_type": "markdown",
   "id": "a87d57f7-e67d-4503-8b97-db0cbc70779b",
   "metadata": {},
   "source": [
    "<h1>Loops can be nested!!!!</h1>"
   ]
  },
  {
   "cell_type": "code",
   "execution_count": null,
   "id": "23ae8387-b85a-435c-9a61-558509843b7f",
   "metadata": {},
   "outputs": [],
   "source": [
    "x = [[1,2],[3,4]]\n",
    "\n",
    "for i in x:\n",
    "    for j in i:\n",
    "        print(j)"
   ]
  },
  {
   "cell_type": "code",
   "execution_count": null,
   "id": "abe315f1-fde6-43fe-be4b-bda4bdda6ba6",
   "metadata": {},
   "outputs": [],
   "source": [
    "n = 0\n",
    "\n",
    "for i in x:\n",
    "    while len(i)>1:\n",
    "        print(i.pop())"
   ]
  },
  {
   "cell_type": "code",
   "execution_count": null,
   "id": "5528b317-8fb6-4624-99a7-4ef6ed02f14e",
   "metadata": {},
   "outputs": [],
   "source": [
    "#You can break loops to save time!\n",
    "\n",
    "for i in [1,2,3,4,5]:\n",
    "    print(i)\n",
    "    if i == 2:\n",
    "        break"
   ]
  },
  {
   "cell_type": "markdown",
   "id": "3825934a-37f1-46b9-ae11-f8e079214e92",
   "metadata": {},
   "source": [
    "<h2> Functions </h2>"
   ]
  },
  {
   "cell_type": "code",
   "execution_count": null,
   "id": "ffe5f265-527a-4e1b-99a2-7ae4ede50dce",
   "metadata": {},
   "outputs": [],
   "source": [
    "def find_biggest_number(number1,number2):\n",
    "    \n",
    "    if number1 > number2:\n",
    "        return number1\n",
    "    else:\n",
    "        return number2"
   ]
  },
  {
   "cell_type": "code",
   "execution_count": null,
   "id": "11b74339-69ff-45db-9a67-56faf06699c8",
   "metadata": {},
   "outputs": [],
   "source": [
    "def find_smallest_number(number1,number2):\n",
    "    \n",
    "    if number1 < number2:\n",
    "        return number1\n",
    "    else:\n",
    "        return number2"
   ]
  },
  {
   "cell_type": "code",
   "execution_count": null,
   "id": "10cfc128-5fe6-4ac4-81b5-6f78e6149e26",
   "metadata": {},
   "outputs": [],
   "source": [
    "find_biggest_number(1,2)"
   ]
  },
  {
   "cell_type": "code",
   "execution_count": null,
   "id": "cd387b64-aeb4-4ec9-8537-459254f1dc2e",
   "metadata": {},
   "outputs": [],
   "source": [
    "find_biggest_number(2,2)"
   ]
  },
  {
   "cell_type": "code",
   "execution_count": null,
   "id": "fb312110-c801-489e-b157-c68298dd13b3",
   "metadata": {},
   "outputs": [],
   "source": [
    "find_biggest_number(\"asd\",\"adcdf\")"
   ]
  },
  {
   "cell_type": "code",
   "execution_count": null,
   "id": "e765f2cc-2512-4a4e-9db0-fa525fdee8e2",
   "metadata": {},
   "outputs": [],
   "source": [
    "find_smallest_number(1,10)"
   ]
  },
  {
   "cell_type": "code",
   "execution_count": null,
   "id": "c4bf49ce-368f-493c-83e2-f651357f3a5b",
   "metadata": {},
   "outputs": [],
   "source": [
    "find_smallest_number(find_biggest_number(10,9),11)"
   ]
  },
  {
   "cell_type": "code",
   "execution_count": null,
   "id": "14b9922f-f32f-40d8-b156-317bbfc4c5a2",
   "metadata": {},
   "outputs": [],
   "source": [
    "find_smallest_number(find_biggest_number(10,9),find_smallest_number(find_biggest_number(100,99),110))"
   ]
  },
  {
   "cell_type": "markdown",
   "id": "11ac90bb-1bcb-449a-b34a-615e6db9c92e",
   "metadata": {},
   "source": [
    "**There are many built-in functions in python and many more available when you import some package**"
   ]
  },
  {
   "cell_type": "code",
   "execution_count": null,
   "id": "eb2fb788-2aab-4a57-b3f7-668f7f3384d5",
   "metadata": {},
   "outputs": [],
   "source": [
    "from random import random"
   ]
  },
  {
   "cell_type": "code",
   "execution_count": null,
   "id": "4f430de5-921d-4df6-a825-a46e14eebe0e",
   "metadata": {},
   "outputs": [],
   "source": [
    "#A random number from 0 to 1\n",
    "random()"
   ]
  },
  {
   "cell_type": "code",
   "execution_count": null,
   "id": "6a1c15cd-2131-4b1b-aea6-b5f84923e8c8",
   "metadata": {},
   "outputs": [],
   "source": [
    "#A random number from 0 to 100\n",
    "100 * random()"
   ]
  },
  {
   "cell_type": "code",
   "execution_count": null,
   "id": "ad732796-7464-4600-a76b-65b874df2bf5",
   "metadata": {},
   "outputs": [],
   "source": [
    "#Quickly create a list with elements from 0 to 9(except 9)\n",
    "list(range(0,9))"
   ]
  },
  {
   "cell_type": "code",
   "execution_count": null,
   "id": "81a11a4b-ccc1-4f99-9841-97d6278cb93a",
   "metadata": {},
   "outputs": [],
   "source": [
    "#Quickly create a list with elements from 0 to 9(except 9), picking every second item\n",
    "list(range(0,9,2))"
   ]
  },
  {
   "cell_type": "code",
   "execution_count": null,
   "id": "27c2518c-258b-4d27-b8dc-c1f3a03092a8",
   "metadata": {},
   "outputs": [],
   "source": [
    "# A function can return multiple values\n",
    "\n",
    "def my_function(x):\n",
    "    return x/2, x*2"
   ]
  },
  {
   "cell_type": "code",
   "execution_count": null,
   "id": "b5216e17-58d9-4f4b-9041-3c5dca89fe5e",
   "metadata": {},
   "outputs": [],
   "source": [
    "my_function(4)[1]"
   ]
  },
  {
   "cell_type": "markdown",
   "id": "1e1158f0-ae76-4e13-b772-716f47b44cfd",
   "metadata": {},
   "source": [
    "<h2> Exercises </h2>"
   ]
  },
  {
   "cell_type": "markdown",
   "id": "32fd5a4a-4e40-4a16-9fde-1db1d99028e4",
   "metadata": {},
   "source": [
    "**2.1 Create a function that takes as input two parameters: distance and units. The distance is in km. Units can be m, cm or mm.\n",
    "The function should convert the distance from km to the chosen unit**\n",
    "\n",
    "Note: if the unit is something else than cm, mm or m, the function should return a message stating: \"unknown units\"\n",
    "\n",
    "- **Example input**: 10, m\n",
    "- **Example output**: 10000\n",
    "\n",
    "- **Example input**: 11, cm\n",
    "- **Example output**: 1100000\n"
   ]
  },
  {
   "cell_type": "code",
   "execution_count": null,
   "id": "f6e5e188-11c8-41c7-b702-0eb2b2baf260",
   "metadata": {},
   "outputs": [],
   "source": []
  },
  {
   "cell_type": "markdown",
   "id": "101a3e37-274f-4a55-b732-0d655c4cde9c",
   "metadata": {},
   "source": [
    "**2.2 Write a function that takes a list of numbers as input and returns the biggest number from the list**\n",
    "\n",
    "- **Example input:** [11,0,22,-1]\n",
    "- **Example output:** 22"
   ]
  },
  {
   "cell_type": "code",
   "execution_count": null,
   "id": "f9130704-bf43-4ab8-b7c8-b265241313f3",
   "metadata": {},
   "outputs": [],
   "source": []
  },
  {
   "cell_type": "markdown",
   "id": "34921f75-7c6d-4ba1-b379-a0199d589f1f",
   "metadata": {},
   "source": [
    "**2.3 Write two functions:**\n",
    "- One called 'login' that will randomly generate a True or False answer. \n",
    "- The second one that will randomly generate a string username and a string password with the length of 8, and will call the 'login' function and when it returns true, will stop and print the username and password used that returned true.\n",
    "\n",
    "**Note: try to searc the internet to find how to generate a random string**\n"
   ]
  },
  {
   "cell_type": "code",
   "execution_count": null,
   "id": "c485cb2e-b7a3-4ede-b55b-041db18b6bab",
   "metadata": {},
   "outputs": [],
   "source": []
  },
  {
   "cell_type": "markdown",
   "id": "e11a1121-4401-42bd-907a-99c526c04e18",
   "metadata": {},
   "source": [
    "<h1>3. Command line arguments and error handling</h1>"
   ]
  },
  {
   "cell_type": "code",
   "execution_count": null,
   "id": "5bc7d1a4-36a7-4e1e-8806-3470f59870b5",
   "metadata": {},
   "outputs": [],
   "source": [
    "# you can have interactive inputs\n",
    "x = input(\"What is your name?\")\n",
    "print(f\"Hello {x}\")"
   ]
  },
  {
   "cell_type": "code",
   "execution_count": null,
   "id": "ac476954-610b-4c15-beea-cd0aa43f61eb",
   "metadata": {},
   "outputs": [],
   "source": [
    "#not all inputs are the same\n",
    "x = input()\n",
    "4/x"
   ]
  },
  {
   "cell_type": "code",
   "execution_count": null,
   "id": "9f1c4728-c8cc-4546-92e9-459c0c124acd",
   "metadata": {},
   "outputs": [],
   "source": [
    "x = int(input())\n",
    "4/x"
   ]
  },
  {
   "cell_type": "code",
   "execution_count": null,
   "id": "185c0586-6b8f-4f88-89ee-3e2e91a0e2b5",
   "metadata": {},
   "outputs": [],
   "source": [
    "try:\n",
    "    x = int(input())\n",
    "    4/x\n",
    "except ZeroDivisionError:\n",
    "    print(\"Cannot divide by zero!\")"
   ]
  },
  {
   "cell_type": "code",
   "execution_count": null,
   "id": "808460d9-8910-45d9-a122-aef16e468810",
   "metadata": {},
   "outputs": [],
   "source": [
    "try:\n",
    "    x = int(input())\n",
    "    print(4/x)\n",
    "except ValueError:\n",
    "    print(\"Please introduce a valid number!\")\n",
    "except ZeroDivisionError:\n",
    "    print(\"Cannot divide by zero!\")"
   ]
  },
  {
   "cell_type": "code",
   "execution_count": null,
   "id": "60ea7ba8-91e4-4101-a48f-968bf577f59d",
   "metadata": {},
   "outputs": [],
   "source": [
    "import sys\n",
    "#Catch all exception - bad for production, good for debugging\n",
    "try:\n",
    "    x = int(input())\n",
    "    4/x\n",
    "except Exception as ex:\n",
    "    print(f\"Exception encountered: {ex} '{sys.exc_info()[0]}'\")\n",
    "    print(\"Cannot divide by zero!\")"
   ]
  },
  {
   "cell_type": "code",
   "execution_count": null,
   "id": "f3cf7883-0fd1-42f9-bcc0-3985a4daa41f",
   "metadata": {},
   "outputs": [],
   "source": [
    "#Else block - is executed only if no exceptions\n",
    "try:\n",
    "    x = int(input())\n",
    "    4/x\n",
    "except Exception as ex:\n",
    "    print(f\"Exception encountered: '{ex}'\")\n",
    "    print(\"Cannot divide by zero!\")\n",
    "else:\n",
    "    print(\"Will print this anyway\")"
   ]
  },
  {
   "cell_type": "code",
   "execution_count": null,
   "id": "50884c0f-77b8-4f70-a19b-4cdc98161d4c",
   "metadata": {},
   "outputs": [],
   "source": [
    "#Finally block - is executed regardless of exception, for example close connection to a database:\n",
    "try:\n",
    "    x = int(input())\n",
    "    print(4/x)\n",
    "    print(\"After the operation we print some text\")\n",
    "except Exception as ex:\n",
    "    print(f\"Exception encountered: '{ex}'\")\n",
    "    print(\"Cannot divide by zero!\")\n",
    "finally:\n",
    "    print(\"Will print this anyway\")"
   ]
  },
  {
   "cell_type": "code",
   "execution_count": null,
   "id": "2ca0dd18-469b-4302-8340-8f26d1c7bbb7",
   "metadata": {},
   "outputs": [],
   "source": [
    "#what about command line parameters!\n",
    "#Check commandline.py file"
   ]
  },
  {
   "cell_type": "markdown",
   "id": "1ebe5b42-7a01-4f9f-a467-94ec24923bd6",
   "metadata": {},
   "source": [
    "<h2> Exercises </h2>"
   ]
  },
  {
   "cell_type": "markdown",
   "id": "8b53f307-b373-4689-a8e6-c7df538733db",
   "metadata": {},
   "source": [
    "**3.1 Create a code that will calculate the area of a rectangle with command line parameters, treating all exceptions, having as input the lenght and the width of the rectangle**\n",
    "\n",
    "Reminder - the area of a rectangle is width * length"
   ]
  },
  {
   "cell_type": "code",
   "execution_count": null,
   "id": "382681ca-b506-417e-a215-d9e9a82f7e48",
   "metadata": {},
   "outputs": [],
   "source": [
    "#check rectangle_area.py file for a solution"
   ]
  },
  {
   "cell_type": "markdown",
   "id": "44adbea1-1333-4acc-8405-003a2cc76668",
   "metadata": {},
   "source": [
    "<h1>4. Object Oriented Programming and external modules</h1>"
   ]
  },
  {
   "cell_type": "markdown",
   "id": "759f44f1-64a2-4d5f-b5fd-27b92c23a86b",
   "metadata": {},
   "source": [
    "<h2>OOP</h2>"
   ]
  },
  {
   "cell_type": "code",
   "execution_count": null,
   "id": "5e5f40df-b250-4e18-91bc-edfd025f3be8",
   "metadata": {},
   "outputs": [],
   "source": [
    "#class = blueprint\n",
    "\n",
    "class Switch():\n",
    "    \n",
    "    model = \"Cisco Catalist 2960\"\n",
    "    \n",
    "    @staticmethod\n",
    "    def get_model():\n",
    "        return Switch.model\n",
    "    \n",
    "    @classmethod\n",
    "    def update_model(cls, model):\n",
    "        cls.model =  model\n",
    "    \n",
    "    def __init__(self):\n",
    "        self.sw_version = 16\n",
    "        self.hostname = \"DummyHostname\"\n",
    "\n",
    "        \n",
    "    def __init__(self, version,hostname,numports):\n",
    "        self.sw_version = version\n",
    "        self.hostname = hostname\n",
    "        \n",
    "        \n",
    "        interfaces = {}\n",
    "        for i in range(0,numports):\n",
    "            interfaces[f\"FastEthernet {i}\"] = {\"shutdown\":True, \"mode\":\"switchport\"}\n",
    "            \n",
    "        self.interfaces = interfaces\n",
    "        \n",
    "    def get_interface_info(self):\n",
    "        '''\n",
    "        Return a list of interfaces of the switch\n",
    "        '''\n",
    "        return self.interfaces\n",
    "    \n",
    "    def get_interface_count(self):\n",
    "        return len(self.interfaces.keys())\n",
    "    \n",
    "    def get_up_interfaces(self):\n",
    "        n = 0\n",
    "        for i in self.interfaces.keys():\n",
    "            if self.interfaces[i][\"shutdown\"] == False:\n",
    "                n += 1\n",
    "        return f\"There are {n} interfaces up on {self.hostname}\"\n",
    "    \n",
    "    def configure_interface(self,port, shutdown=True, mode = \"switchport\"):\n",
    "        self.interfaces[port][\"shutdown\"]= shutdown\n",
    "        self.interfaces[port][\"mode\"]= mode\n",
    "        \n",
    "\n",
    "    def __repr__(self):\n",
    "        #how to convert the object to string\n",
    "        return repr(f'Hostname: {self.hostname},Version: {self.sw_version}, Interfaces: {self.interfaces}')\n",
    "        \n",
    "\n"
   ]
  },
  {
   "cell_type": "code",
   "execution_count": null,
   "id": "25d4dc7b-bbcc-4379-83cb-d153d8d9df43",
   "metadata": {},
   "outputs": [],
   "source": [
    "sw1 = Switch(11,\"SW1\",2)"
   ]
  },
  {
   "cell_type": "code",
   "execution_count": null,
   "id": "2627fd5a-2237-4d2a-bdcb-c49a3b0cd2f7",
   "metadata": {},
   "outputs": [],
   "source": [
    "print(sw1)"
   ]
  },
  {
   "cell_type": "code",
   "execution_count": null,
   "id": "5c801317-47b0-4424-8f00-751980153875",
   "metadata": {},
   "outputs": [],
   "source": [
    "sw1.get_interface_info()"
   ]
  },
  {
   "cell_type": "code",
   "execution_count": null,
   "id": "c399bfd9-5533-4836-9949-56291d0ad9d8",
   "metadata": {},
   "outputs": [],
   "source": [
    "sw1.configure_interface('FastEthernet 0',False)"
   ]
  },
  {
   "cell_type": "code",
   "execution_count": null,
   "id": "af4483ac-37dc-4bef-8f1d-2e516c1b85e7",
   "metadata": {},
   "outputs": [],
   "source": [
    "sw1.get_interface_info()"
   ]
  },
  {
   "cell_type": "code",
   "execution_count": null,
   "id": "7a2c5e22-e5cc-43d3-9290-ccc354eb018d",
   "metadata": {},
   "outputs": [],
   "source": [
    "sw2 = Switch(15,\"SW2\",4)"
   ]
  },
  {
   "cell_type": "code",
   "execution_count": null,
   "id": "0ff39a6f-1e75-47b3-8405-dbce0f3ff70d",
   "metadata": {},
   "outputs": [],
   "source": [
    "sw2.get_interface_info()"
   ]
  },
  {
   "cell_type": "code",
   "execution_count": null,
   "id": "a48655d6-263a-49d5-b91d-57d12e4a058e",
   "metadata": {},
   "outputs": [],
   "source": [
    "sw2.get_interface_count()"
   ]
  },
  {
   "cell_type": "code",
   "execution_count": null,
   "id": "c3894a2d-3a2b-4907-92ab-5e75b7a53f3a",
   "metadata": {},
   "outputs": [],
   "source": [
    "sw2.get_up_interfaces()"
   ]
  },
  {
   "cell_type": "code",
   "execution_count": null,
   "id": "edf24bfe-d9d8-47ee-a45f-c1a562c43b7e",
   "metadata": {},
   "outputs": [],
   "source": [
    "Switch.get_model()"
   ]
  },
  {
   "cell_type": "code",
   "execution_count": null,
   "id": "d0a33d9c-dabd-470c-8234-e0e0e924ceca",
   "metadata": {},
   "outputs": [],
   "source": [
    "Switch.model"
   ]
  },
  {
   "cell_type": "code",
   "execution_count": null,
   "id": "07ef82c6-f4f5-420e-aafd-2e3586e8fbf6",
   "metadata": {},
   "outputs": [],
   "source": [
    "sw2.model"
   ]
  },
  {
   "cell_type": "code",
   "execution_count": null,
   "id": "8c9d033c-9e94-4cd0-ad01-e5eac7ed0297",
   "metadata": {},
   "outputs": [],
   "source": [
    "sw2.sw_version"
   ]
  },
  {
   "cell_type": "code",
   "execution_count": null,
   "id": "1a4c6979-c421-4a29-ac3b-d41511b90e72",
   "metadata": {},
   "outputs": [],
   "source": [
    "sw1.sw_version"
   ]
  },
  {
   "cell_type": "code",
   "execution_count": null,
   "id": "90274df8-8c45-4729-ad83-132426b06184",
   "metadata": {},
   "outputs": [],
   "source": [
    "Switch.update_model(\"New Switch Model\")"
   ]
  },
  {
   "cell_type": "code",
   "execution_count": null,
   "id": "451ff524-4ebf-43d6-9bc1-fe658dcac355",
   "metadata": {},
   "outputs": [],
   "source": [
    "sw2.model"
   ]
  },
  {
   "cell_type": "code",
   "execution_count": null,
   "id": "110af2fd-ac7f-4086-85e3-8d07a05c7a3c",
   "metadata": {},
   "outputs": [],
   "source": [
    "sw1.model"
   ]
  },
  {
   "cell_type": "code",
   "execution_count": null,
   "id": "6084b51f-b99b-4297-8b68-a6b9456eaa61",
   "metadata": {},
   "outputs": [],
   "source": [
    "Switch.model"
   ]
  },
  {
   "cell_type": "markdown",
   "id": "57f2aed1-72f3-4963-8f91-ae3ecbc5de1c",
   "metadata": {},
   "source": [
    "<h2>External Modules</h2>"
   ]
  },
  {
   "cell_type": "code",
   "execution_count": null,
   "id": "33c6dbbe-60a1-4f71-bb33-eec2a4acb041",
   "metadata": {},
   "outputs": [],
   "source": [
    "import datetime"
   ]
  },
  {
   "cell_type": "code",
   "execution_count": null,
   "id": "1c80f5fc-3d9d-4bb1-92f4-3584b5969e29",
   "metadata": {},
   "outputs": [],
   "source": [
    "#see available methods\n",
    "dir(datetime)"
   ]
  },
  {
   "cell_type": "code",
   "execution_count": null,
   "id": "b274013b-fc7e-41fc-90be-b5d65ee6a9e9",
   "metadata": {},
   "outputs": [],
   "source": [
    "#module help\n",
    "help(datetime)"
   ]
  },
  {
   "cell_type": "code",
   "execution_count": null,
   "id": "6c68d341-5ab0-464a-9e43-505caea1055d",
   "metadata": {},
   "outputs": [],
   "source": [
    "#class help\n",
    "help(datetime.timedelta)"
   ]
  },
  {
   "cell_type": "code",
   "execution_count": null,
   "id": "a64f94ca-d7bc-4113-9f7c-f2ce0b4d40f1",
   "metadata": {},
   "outputs": [],
   "source": [
    "#method help\n",
    "help(datetime.date.strftime)"
   ]
  },
  {
   "cell_type": "code",
   "execution_count": null,
   "id": "de687df5-e0bd-4298-be17-3be90e37ccd4",
   "metadata": {},
   "outputs": [],
   "source": [
    "#help is generated automatically\n",
    "help(Switch)\n",
    "#note that you can see the comments we added in the get_interface_info method."
   ]
  },
  {
   "cell_type": "code",
   "execution_count": null,
   "id": "e1caf20c-7b3b-41ab-99c9-ad9de59399ac",
   "metadata": {},
   "outputs": [],
   "source": [
    "#getting external modules, not included in standard library\n",
    "pip install xmltodict"
   ]
  },
  {
   "cell_type": "code",
   "execution_count": null,
   "id": "57930f31-8681-4757-b654-950bb5976a24",
   "metadata": {},
   "outputs": [],
   "source": [
    "pip help"
   ]
  },
  {
   "cell_type": "markdown",
   "id": "1bc33f4e-24f0-4310-beba-14d6ffb1a741",
   "metadata": {},
   "source": [
    "<h2>Excercises</h2>"
   ]
  },
  {
   "cell_type": "markdown",
   "id": "2521818f-b33c-4ecd-84b9-54fa3b973efb",
   "metadata": {},
   "source": [
    "**4.1 Create a class that represents an OSPF process on a router. It should have 3 methods**\n",
    "- get_neighbors - return a list of neighbors\n",
    "- get_routes - return the list of routes and the neighbor routerid from which they were learned\n",
    "- add_neighbor - add router id in the list of neighbors\n",
    "- add_route - add a route to the routes dictionary, if the router id is in the list of neighbors\n",
    "\n",
    "**and 3 attributes:**\n",
    "- router_id - a string containing the router id\n",
    "- routes - a dictionary where the key is the neighbor routerid, and the value is a list of (mock) routes learned from that neighbor\n",
    "- neighbors - a list of other router ids with which our router established neigbhoring relationships\n",
    "\n",
    "There is no right or wrong solution here, just play with the OOP concepts"
   ]
  },
  {
   "cell_type": "markdown",
   "id": "1bc7b36d-f768-4d8d-a933-a157a125284c",
   "metadata": {},
   "source": [
    "<h1> 5. Reading, parsing and writing files<h1>"
   ]
  },
  {
   "cell_type": "code",
   "execution_count": null,
   "id": "cd248d14-a30e-4fef-92c3-b5bd8afde504",
   "metadata": {},
   "outputs": [],
   "source": [
    "#open and read a file\n",
    "with open(\"R1_config.txt\") as cfg:\n",
    "    for line in cfg.readlines():\n",
    "        print(line)"
   ]
  },
  {
   "cell_type": "code",
   "execution_count": null,
   "id": "060cbe4d-9b29-47a4-8255-97773a0a17d4",
   "metadata": {},
   "outputs": [],
   "source": [
    "#Get all interfaces\n",
    "with open(\"R1_config.txt\") as cfg:\n",
    "    for line in cfg.readlines():\n",
    "        if \"interface\" in line:\n",
    "            print(line)"
   ]
  },
  {
   "cell_type": "code",
   "execution_count": null,
   "id": "3d2d1dac-6dbd-4649-b0fd-f82f3b725de7",
   "metadata": {},
   "outputs": [],
   "source": [
    "def get_interfaces_and_ip_addresses(cfgfile):\n",
    "    interfaces = {}\n",
    "    interface = None\n",
    "    ip_addr = None\n",
    "    with open(cfgfile) as cfg:\n",
    "        for line in cfg.readlines():\n",
    "            \n",
    "            if \"interface\" in line:\n",
    "                interface = line.strip()\n",
    "\n",
    "            if \"ip address\" in line:\n",
    "                ip_addr = line.strip()\n",
    "\n",
    "                \n",
    "            if interface and ip_addr:\n",
    "                interfaces[interface] = ip_addr\n",
    "                interface = None\n",
    "                ip_addr = None\n",
    "    return interfaces"
   ]
  },
  {
   "cell_type": "code",
   "execution_count": null,
   "id": "15c16198-8650-403f-a48c-0f683dea5b52",
   "metadata": {},
   "outputs": [],
   "source": [
    "x = get_interfaces_and_ip_addresses(\"R1_config.txt\")"
   ]
  },
  {
   "cell_type": "code",
   "execution_count": null,
   "id": "124f4875-d2d8-4871-b229-cc9756de2396",
   "metadata": {},
   "outputs": [],
   "source": [
    "x"
   ]
  },
  {
   "cell_type": "code",
   "execution_count": null,
   "id": "1650f0ca-28f9-4086-a3ef-a27fa103f058",
   "metadata": {},
   "outputs": [],
   "source": [
    "#write output to another file\n",
    "#Open the file with write permission\n",
    "#no need to close!!!!!\n",
    "\n",
    "with open(\"R1_config.txt\",'r') as cfg:\n",
    "    with open(\"output_file.txt\",'w') as o:\n",
    "        for line in cfg.readlines():\n",
    "            if \"interface\" in line:\n",
    "                o.write(line)"
   ]
  },
  {
   "cell_type": "markdown",
   "id": "340ffe7c-df30-4d89-97dc-f213531d81f1",
   "metadata": {},
   "source": [
    "**Access Modes:**\n",
    "\n",
    "    - Read: r\n",
    "    - Write: w\n",
    "    - ReadWrite: w+\n",
    "    - Append: a"
   ]
  },
  {
   "cell_type": "markdown",
   "id": "096e8a59-cca1-4c42-8828-f61d680897e2",
   "metadata": {},
   "source": [
    "<h2>Excercises</h2>"
   ]
  },
  {
   "cell_type": "markdown",
   "id": "098e1337-4b0e-45f9-85f0-2ee251fa9bbf",
   "metadata": {},
   "source": [
    "5.1 **Create a function that parses the R1_config.txt file. Create a dict output that will contain the exact interface name and the exact ip address of each interface with ip address and write this output to an output file**\n",
    "\n",
    "- **Examle output**:\n",
    "\n",
    "{ \n",
    "\"FastEthernet0/0\": \"1.1.1.1\",\n",
    "  \"FastEthernet0/1\": \"2.2.2.2\n",
    "}"
   ]
  },
  {
   "cell_type": "code",
   "execution_count": null,
   "id": "21d3a112-3c17-458d-b6f6-1794d7ebca66",
   "metadata": {},
   "outputs": [],
   "source": []
  },
  {
   "cell_type": "markdown",
   "id": "1b860134-34af-4e51-b3bd-42b66eb0727b",
   "metadata": {},
   "source": [
    "<h1>6. Test Driven Development and Unit Testing</h1>"
   ]
  },
  {
   "cell_type": "markdown",
   "id": "f7580280-95a5-45a2-a323-473ad7b24228",
   "metadata": {},
   "source": [
    "- unittest\n",
    "- pytest"
   ]
  },
  {
   "cell_type": "markdown",
   "id": "b7151a65-f7fc-4f59-9986-9867787e03ca",
   "metadata": {},
   "source": [
    "<h2>6.1 unittest</h2>"
   ]
  },
  {
   "cell_type": "markdown",
   "id": "41f09b73-badf-4c06-9b65-6aacf89e76b1",
   "metadata": {},
   "source": [
    "<h2>6.2 pytest</h2>"
   ]
  },
  {
   "cell_type": "markdown",
   "id": "27a4d3ad-be4e-4f76-8f2b-29ddc222f261",
   "metadata": {},
   "source": [
    "<h2>Excercises</h2>"
   ]
  },
  {
   "cell_type": "markdown",
   "id": "1aa4b8b5-3c1d-48e1-bed2-3f867bf4b5e9",
   "metadata": {},
   "source": [
    "**6.1 Write a Pythagoras class with two static methods - calculate hypotenuse and calculate area of a right-angled triangle. Use as inputs the two legs of the triangle.**\n",
    "- Create tests with unit test or pytest to check the functionality of the Pythagoras class. \n",
    "- Use the TDD approach. \n",
    "- Make sure to test positive and negative scenarios\n",
    "\n",
    "Note 1: In a right-angled triangle, the square of the hypotenuse side is equal to the sum of squares of the other two sides\n",
    "\n",
    "Note 2: The area of a right-angled triangle equals with two legs multiplied divided by 2"
   ]
  },
  {
   "cell_type": "code",
   "execution_count": null,
   "id": "3ebdcfad-d768-4665-9494-34b07c1ba2a4",
   "metadata": {},
   "outputs": [],
   "source": []
  }
 ],
 "metadata": {
  "kernelspec": {
   "display_name": "Python 3",
   "language": "python",
   "name": "python3"
  },
  "language_info": {
   "codemirror_mode": {
    "name": "ipython",
    "version": 3
   },
   "file_extension": ".py",
   "mimetype": "text/x-python",
   "name": "python",
   "nbconvert_exporter": "python",
   "pygments_lexer": "ipython3",
   "version": "3.9.5"
  }
 },
 "nbformat": 4,
 "nbformat_minor": 5
}
