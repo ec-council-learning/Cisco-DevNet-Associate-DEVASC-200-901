{
 "cells": [
  {
   "cell_type": "code",
   "execution_count": 14,
   "id": "6174e70e-5fb5-4207-9250-42bd04e20b2a",
   "metadata": {},
   "outputs": [],
   "source": [
    "import requests"
   ]
  },
  {
   "cell_type": "code",
   "execution_count": 24,
   "id": "db2709f1-7ac0-48bb-9e8a-d31d63572dd7",
   "metadata": {},
   "outputs": [],
   "source": [
    "# Define the API endpoint URL and request parameters\n",
    "url = 'https://reqres.in/api/users/23'"
   ]
  },
  {
   "cell_type": "code",
   "execution_count": 25,
   "id": "7306c0ed-0bbf-4980-9fbd-a40b5223917b",
   "metadata": {},
   "outputs": [],
   "source": [
    "params = {\n",
    "    \"name\": \"sergiu\",\n",
    "    \"job\": \"teacher\"\n",
    "    }"
   ]
  },
  {
   "cell_type": "code",
   "execution_count": 26,
   "id": "35dba882-9e05-4ac3-83d3-b903b04bcba4",
   "metadata": {},
   "outputs": [],
   "source": [
    "# Make a request to the API endpoint with the parameters\n",
    "#response = requests.post(url, params=params)\n",
    "response = requests.get(url, params=params)"
   ]
  },
  {
   "cell_type": "code",
   "execution_count": 27,
   "id": "82aad1e2-71fc-4284-a75f-e43d43d7d8db",
   "metadata": {},
   "outputs": [
    {
     "data": {
      "text/plain": [
       "404"
      ]
     },
     "execution_count": 27,
     "metadata": {},
     "output_type": "execute_result"
    }
   ],
   "source": [
    "response.status_code"
   ]
  },
  {
   "cell_type": "code",
   "execution_count": 22,
   "id": "9b6461d3-4479-409d-a759-c556f512cc62",
   "metadata": {},
   "outputs": [
    {
     "data": {
      "text/plain": [
       "<RequestsCookieJar[]>"
      ]
     },
     "execution_count": 22,
     "metadata": {},
     "output_type": "execute_result"
    }
   ],
   "source": [
    "response.cookies"
   ]
  },
  {
   "cell_type": "code",
   "execution_count": 21,
   "id": "93cf600f-f8db-47cb-95ca-776493947507",
   "metadata": {},
   "outputs": [
    {
     "data": {
      "text/plain": [
       "b'{\"id\":\"495\",\"createdAt\":\"2023-04-14T15:19:44.006Z\"}'"
      ]
     },
     "execution_count": 21,
     "metadata": {},
     "output_type": "execute_result"
    }
   ],
   "source": [
    "response.content"
   ]
  },
  {
   "cell_type": "code",
   "execution_count": null,
   "id": "4a78da4e-6ec6-46b0-855f-f163f528a267",
   "metadata": {},
   "outputs": [],
   "source": [
    "response.headers"
   ]
  },
  {
   "cell_type": "code",
   "execution_count": 28,
   "id": "f130a95e-df80-4fe4-a401-ceea6fd3342e",
   "metadata": {},
   "outputs": [
    {
     "name": "stdout",
     "output_type": "stream",
     "text": [
      "Error: 404\n"
     ]
    }
   ],
   "source": [
    "# Check if the request was successful (status code 200)\n",
    "if response.status_code > 199 and response.status_code < 300:\n",
    "    # Print the response content (JSON data)\n",
    "    print(response.json())\n",
    "else:\n",
    "    # Print an error message\n",
    "    print('Error:', response.status_code)"
   ]
  },
  {
   "cell_type": "code",
   "execution_count": null,
   "id": "86ea094d-c884-4233-8f69-ea50ab827b96",
   "metadata": {},
   "outputs": [],
   "source": []
  }
 ],
 "metadata": {
  "kernelspec": {
   "display_name": "Python 3",
   "language": "python",
   "name": "python3"
  },
  "language_info": {
   "codemirror_mode": {
    "name": "ipython",
    "version": 3
   },
   "file_extension": ".py",
   "mimetype": "text/x-python",
   "name": "python",
   "nbconvert_exporter": "python",
   "pygments_lexer": "ipython3",
   "version": "3.9.5"
  }
 },
 "nbformat": 4,
 "nbformat_minor": 5
}
